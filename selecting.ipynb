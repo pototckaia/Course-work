{
 "cells": [
  {
   "cell_type": "code",
   "execution_count": null,
   "metadata": {},
   "outputs": [],
   "source": [
    "# from sklearn.feature_selection import SelectFromModel\n",
    "# from numpy import sort\n",
    "\n",
    "# print(reg.feature_importances_)\n",
    "\n",
    "# selection = SelectFromModel(reg, threshold=0.0051, prefit=True)\n",
    "# # n_features = selection.transform(X_train).shape[1]\n",
    "# # while n_features > 15:\n",
    "# #     selection.threshold += 0.001\n",
    "# #     X_transform = selection.transform(X_train)\n",
    "# #     n_features = X_transform.shape[1]\n",
    "\n",
    "# select_X_train = selection.transform(X_train)\n",
    "# print(\"Features {}\".format(select_X_train.shape))\n",
    "# print(\"Threshold {}\".format(selection.threshold))\n",
    "# param = {\n",
    "#     'verbosity':0,\n",
    "# #     'max_depth': 7,\n",
    "    \n",
    "# #     'learning_rate': 0.05,\n",
    "# #     'min_child_weight': 3,\n",
    "# #     'gamma': 8.1,\n",
    "# #     'subsample':0.8, \n",
    "# #     'colsample_bytree':0.8,\n",
    "# }\n",
    "\n",
    "# selection_model = xgb.XGBRegressor(**params)\n",
    "\n",
    "# select_X_test = selection.transform(X_test)\n",
    "\n",
    "# selection_model.fit(select_X_train, target_train[[columnName.value]])\n",
    "\n",
    "# target_test['XGB select'] = selection_model.predict(select_X_test)\n",
    "# target_train['XGB select'] = selection_model.predict(select_X_train)\n",
    "\n",
    "# mix.print_mean(target_test, target_train, columnName.value, 'XGB select')"
   ]
  }
 ],
 "metadata": {
  "kernelspec": {
   "display_name": "Python 3",
   "language": "python",
   "name": "python3"
  },
  "language_info": {
   "codemirror_mode": {
    "name": "ipython",
    "version": 3
   },
   "file_extension": ".py",
   "mimetype": "text/x-python",
   "name": "python",
   "nbconvert_exporter": "python",
   "pygments_lexer": "ipython3",
   "version": "3.5.0"
  }
 },
 "nbformat": 4,
 "nbformat_minor": 2
}
