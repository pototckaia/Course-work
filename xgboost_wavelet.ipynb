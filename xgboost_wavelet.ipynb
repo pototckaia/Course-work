{
 "cells": [
  {
   "cell_type": "code",
   "execution_count": 2,
   "metadata": {},
   "outputs": [
    {
     "name": "stdout",
     "output_type": "stream",
     "text": [
      "(1517, 54)\n"
     ]
    }
   ],
   "source": [
    "import numpy as np\n",
    "import pandas as pd\n",
    "import scipy.sparse\n",
    "import xgboost as xgb\n",
    "import mix_pandas as mix\n",
    "import predict as predict_mix\n",
    "import db_column_name as db\n",
    "\n",
    "%matplotlib inline\n",
    "import matplotlib.pyplot as plt\n",
    "%config InlineBackend.figure_format = 'svg'\n",
    "\n",
    "from pylab import rcParams\n",
    "rcParams['figure.figsize'] = 10, 7\n",
    "\n",
    "\n",
    "cn = db.ColumnName()\n",
    "\n",
    "target_minT = pd.read_csv('./data/31286_103.csv')\n",
    "mix.set_index_date(target_minT, cn.date)\n",
    "\n",
    "X = pd.read_csv('./data/character_31286.csv')\n",
    "mix.set_index_date(X, cn.date)\n",
    "\n",
    "X = X.drop([cn.point], axis=1)\n",
    "X = X[[x for x in X.columns if 'avg' in x or \n",
    "       x == cn.offset]]\n",
    "    \n",
    "X = mix.mean_day(X)\n",
    "target_minT.index = target_minT.index.round('D')\n",
    "\n",
    "X = X.drop([cn.offset], axis=1)\n",
    "\n",
    "target_minT = target_minT.reindex(X.index)\n",
    "target_minT = mix.clean(target_minT)\n",
    "X = X.reindex(target_minT.index)\n",
    "X = mix.clean(X)\n",
    "\n",
    "target_minT = mix.winsorized(target_minT, cn.value, [0.05, 0.95])\n",
    "X = X.reindex(target_minT.index)\n",
    "print(X.shape)"
   ]
  },
  {
   "cell_type": "code",
   "execution_count": 3,
   "metadata": {},
   "outputs": [
    {
     "name": "stdout",
     "output_type": "stream",
     "text": [
      "(818, 54)\n"
     ]
    }
   ],
   "source": [
    "X = X[X.index.year < 2016]\n",
    "target_minT = target_minT[target_minT.index.year < 2016]\n",
    "print(X.shape)"
   ]
  },
  {
   "cell_type": "code",
   "execution_count": 4,
   "metadata": {},
   "outputs": [
    {
     "name": "stdout",
     "output_type": "stream",
     "text": [
      "(409, 54)\n",
      "(409, 54)\n"
     ]
    }
   ],
   "source": [
    "import pywt\n",
    "\n",
    "def idwt(cA, cD):\n",
    "    return  pywt.idwt(cA, cD, wavelet='db1', mode='constant')\n",
    "\n",
    "cA, cD = pywt.dwt(target_minT.loc[:, cn.value].values, \n",
    "                  wavelet='db1', mode='constant')\n",
    "# Approximation and detail coefficients.\n",
    "\n",
    "cA, cD = pd.DataFrame(cA, columns=['c']), pd.DataFrame(cD, columns=['c'])\n",
    "\n",
    "XA = mix.mean_pair(X)\n",
    "\n",
    "x = []\n",
    "size = X.shape[0]\n",
    "for i in range(0, size, 2):\n",
    "    if i + 1 < size:\n",
    "            save = X.iloc[i:i + 2].diff(-1).fillna(0)\n",
    "            save = save.iloc[0].values\n",
    "            # iloc not include end in slice\n",
    "            x.append(save)\n",
    "    else:\n",
    "        x.append(np.zeros(X.shape[1]))\n",
    "\n",
    "XD = pd.DataFrame(x, columns=X.columns)\n",
    "\n",
    "# XD = mix.diff_pair(X)\n",
    "\n",
    "print(XA.shape)\n",
    "print(XD.shape)"
   ]
  },
  {
   "cell_type": "code",
   "execution_count": 8,
   "metadata": {},
   "outputs": [
    {
     "name": "stdout",
     "output_type": "stream",
     "text": [
      "Train\n",
      "Mean squared error 1.66698\n",
      "Mean absolute error 0.96796\n",
      "Median absolute error 0.72543\n",
      "Test\n",
      "Mean squared error 47.10500\n",
      "Mean absolute error 6.06038\n",
      "Median absolute error 6.05283\n",
      "\n",
      "Train\n",
      "Mean squared error 1.76473\n",
      "Mean absolute error 0.96584\n",
      "Median absolute error 0.74295\n",
      "Test\n",
      "Mean squared error 14.14659\n",
      "Mean absolute error 2.77477\n",
      "Median absolute error 2.18175\n",
      "\n",
      "Train\n",
      "Mean squared error 1.72371\n",
      "Mean absolute error 0.95676\n",
      "Median absolute error 0.69336\n",
      "Test\n",
      "Mean squared error 18.20758\n",
      "Mean absolute error 3.40923\n",
      "Median absolute error 3.00700\n",
      "\n",
      "Train\n",
      "Mean squared error 1.70499\n",
      "Mean absolute error 0.97775\n",
      "Median absolute error 0.75722\n",
      "Test\n",
      "Mean squared error 23.11527\n",
      "Mean absolute error 3.37837\n",
      "Median absolute error 2.26793\n",
      "\n",
      "Train\n",
      "Mean squared error 1.95549\n",
      "Mean absolute error 1.02853\n",
      "Median absolute error 0.78084\n",
      "Test\n",
      "Mean squared error 22.30374\n",
      "Mean absolute error 3.73372\n",
      "Median absolute error 3.18694\n",
      "\n"
     ]
    }
   ],
   "source": [
    "from sklearn.model_selection import TimeSeriesSplit\n",
    "\n",
    "import warnings\n",
    "warnings.simplefilter(action='ignore', category=FutureWarning)\n",
    "\n",
    "params = {\n",
    "    'verbosity':0,\n",
    "    'max_depth': 4,\n",
    "\n",
    "    'learning_rate': 0.05,\n",
    "    'min_child_weight': 6,\n",
    "    'gamma': 12,\n",
    "}\n",
    "\n",
    "reg = xgb.XGBRegressor(**params)\n",
    "predict_xa = predict_mix.predict_model_split(reg, XA, cA, 'c', 5)\n",
    "predict_xd = predict_mix.predict_model_split(reg, XD, cD, 'c', 5)\n",
    "\n",
    "for a, d in zip(predict_xa, predict_xd):\n",
    "    # foo\n",
    "    train_size = a[0].size\n",
    "    test_size = a[1].size\n",
    "    target_train = target_minT.iloc[0:train_size]\n",
    "    target_test = target_minT.iloc[train_size - 1:train_size + test_size - 1]\n",
    "    \n",
    "    target_train['prediction'] = idwt(a[0].loc[:, 'prediction'], d[0].loc[:, 'prediction'])\n",
    "\n",
    "    target_test['prediction'] = idwt(a[1].loc[:, 'prediction'], d[1].loc[:, 'prediction'])\n",
    "    \n",
    "    print(\"Train\")\n",
    "    predict_mix.print_mean(target_train[[cn.value]], target_train[['prediction']])\n",
    "    print(\"Test\")\n",
    "    predict_mix.print_mean(target_test[[cn.value]], target_test[['prediction']])\n",
    "    print()"
   ]
  },
  {
   "cell_type": "code",
   "execution_count": null,
   "metadata": {},
   "outputs": [],
   "source": []
  }
 ],
 "metadata": {
  "kernelspec": {
   "display_name": "Python 3",
   "language": "python",
   "name": "python3"
  },
  "language_info": {
   "codemirror_mode": {
    "name": "ipython",
    "version": 3
   },
   "file_extension": ".py",
   "mimetype": "text/x-python",
   "name": "python",
   "nbconvert_exporter": "python",
   "pygments_lexer": "ipython3",
   "version": "3.7.3"
  }
 },
 "nbformat": 4,
 "nbformat_minor": 2
}
