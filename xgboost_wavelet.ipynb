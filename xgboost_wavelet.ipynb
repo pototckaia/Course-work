{
 "cells": [
  {
   "cell_type": "code",
   "execution_count": 1,
   "metadata": {},
   "outputs": [
    {
     "name": "stdout",
     "output_type": "stream",
     "text": [
      "(1369, 54)\n"
     ]
    }
   ],
   "source": [
    "import numpy as np\n",
    "import pandas as pd\n",
    "import scipy.sparse\n",
    "import xgboost as xgb\n",
    "import mix_pandas as mix\n",
    "import predict as predict_mix\n",
    "import db_column_name as db\n",
    "\n",
    "%matplotlib inline\n",
    "import matplotlib.pyplot as plt\n",
    "%config InlineBackend.figure_format = 'svg'\n",
    "\n",
    "from pylab import rcParams\n",
    "rcParams['figure.figsize'] = 10, 7\n",
    "\n",
    "\n",
    "cn = db.ColumnName()\n",
    "\n",
    "target_minT = pd.read_csv('./data/31286_103.csv')\n",
    "mix.set_index_date(target_minT, cn.date)\n",
    "\n",
    "X = pd.read_csv('./data/character_31286.csv')\n",
    "mix.set_index_date(X, cn.date)\n",
    "\n",
    "X = X.drop([cn.point], axis=1)\n",
    "X = X[[x for x in X.columns if 'avg' in x or \n",
    "       x == cn.offset]]\n",
    "    \n",
    "X = mix.mean_day(X)\n",
    "target_minT.index = target_minT.index.round('D')\n",
    "\n",
    "X = X.drop([cn.offset], axis=1)\n",
    "\n",
    "target_minT = target_minT.reindex(X.index)\n",
    "target_minT = mix.clean(target_minT)\n",
    "X = X.reindex(target_minT.index)\n",
    "X = mix.clean(X)\n",
    "\n",
    "target_minT = mix.winsorized(target_minT, cn.value, [0.1, 0.80])\n",
    "X = X.reindex(target_minT.index)\n",
    "print(X.shape)"
   ]
  },
  {
   "cell_type": "code",
   "execution_count": 2,
   "metadata": {},
   "outputs": [
    {
     "name": "stdout",
     "output_type": "stream",
     "text": [
      "(685, 54)\n",
      "(685, 54)\n"
     ]
    }
   ],
   "source": [
    "import pywt\n",
    "\n",
    "def idwt(cA, cD):\n",
    "    return  pywt.idwt(cA, cD, wavelet='db1', mode='constant')\n",
    "\n",
    "cA, cD = pywt.dwt(target_minT.loc[:, cn.value].values, \n",
    "                  wavelet='db1', mode='constant')\n",
    "# Approximation and detail coefficients.\n",
    "\n",
    "cA, cD = pd.DataFrame(cA, columns=['c']), pd.DataFrame(cD, columns=['c'])\n",
    "\n",
    "XA = mix.mean_pair(X)\n",
    "\n",
    "x = []\n",
    "size = X.shape[0]\n",
    "for i in range(0, size, 2):\n",
    "    if i + 1 < size:\n",
    "            save = X.iloc[i:i + 2].diff(-1).fillna(0)\n",
    "            save = save.iloc[0].values\n",
    "            # iloc not include end in slice\n",
    "            x.append(save)\n",
    "    else:\n",
    "        x.append(np.zeros(X.shape[1]))\n",
    "\n",
    "XD = pd.DataFrame(x, columns=X.columns)\n",
    "\n",
    "# XD = mix.diff_pair(X)\n",
    "\n",
    "print(XA.shape)\n",
    "print(XD.shape)"
   ]
  },
  {
   "cell_type": "code",
   "execution_count": 3,
   "metadata": {},
   "outputs": [
    {
     "name": "stderr",
     "output_type": "stream",
     "text": [
      "c:\\users\\home1\\appdata\\local\\programs\\python\\python35\\lib\\site-packages\\pandas\\core\\indexing.py:362: SettingWithCopyWarning: \n",
      "A value is trying to be set on a copy of a slice from a DataFrame.\n",
      "Try using .loc[row_indexer,col_indexer] = value instead\n",
      "\n",
      "See the caveats in the documentation: http://pandas.pydata.org/pandas-docs/stable/indexing.html#indexing-view-versus-copy\n",
      "  self.obj[key] = _infer_fill_value(value)\n",
      "c:\\users\\home1\\appdata\\local\\programs\\python\\python35\\lib\\site-packages\\pandas\\core\\indexing.py:635: SettingWithCopyWarning: \n",
      "A value is trying to be set on a copy of a slice from a DataFrame.\n",
      "Try using .loc[row_indexer,col_indexer] = value instead\n",
      "\n",
      "See the caveats in the documentation: http://pandas.pydata.org/pandas-docs/stable/indexing.html#indexing-view-versus-copy\n",
      "  self.obj[item_labels[indexer[info_axis]]] = value\n"
     ]
    },
    {
     "name": "stdout",
     "output_type": "stream",
     "text": [
      "Train\n",
      "Mean squared error 1.42268\n",
      "Mean absolute error 0.92321\n",
      "Median absolute error 0.74099\n",
      "Test\n",
      "Mean squared error 18.66486\n",
      "Mean absolute error 3.34746\n",
      "Median absolute error 2.66813\n",
      "\n",
      "Train\n",
      "Mean squared error 1.41318\n",
      "Mean absolute error 0.91714\n",
      "Median absolute error 0.73250\n",
      "Test\n",
      "Mean squared error 15.99807\n",
      "Mean absolute error 3.04902\n",
      "Median absolute error 2.49369\n",
      "\n",
      "Train\n",
      "Mean squared error 1.51020\n",
      "Mean absolute error 0.95816\n",
      "Median absolute error 0.76012\n",
      "Test\n",
      "Mean squared error 42.82477\n",
      "Mean absolute error 4.32072\n",
      "Median absolute error 2.64075\n",
      "\n",
      "Train\n",
      "Mean squared error 1.75705\n",
      "Mean absolute error 1.03062\n",
      "Median absolute error 0.82287\n",
      "Test\n",
      "Mean squared error 52.09771\n",
      "Mean absolute error 5.78596\n",
      "Median absolute error 4.90323\n",
      "\n",
      "Train\n",
      "Mean squared error 1.91012\n",
      "Mean absolute error 1.05861\n",
      "Median absolute error 0.84887\n",
      "Test\n",
      "Mean squared error 18.32270\n",
      "Mean absolute error 3.52418\n",
      "Median absolute error 3.27311\n",
      "\n"
     ]
    },
    {
     "name": "stderr",
     "output_type": "stream",
     "text": [
      "c:\\users\\home1\\appdata\\local\\programs\\python\\python35\\lib\\site-packages\\ipykernel_launcher.py:28: SettingWithCopyWarning: \n",
      "A value is trying to be set on a copy of a slice from a DataFrame.\n",
      "Try using .loc[row_indexer,col_indexer] = value instead\n",
      "\n",
      "See the caveats in the documentation: http://pandas.pydata.org/pandas-docs/stable/indexing.html#indexing-view-versus-copy\n",
      "c:\\users\\home1\\appdata\\local\\programs\\python\\python35\\lib\\site-packages\\ipykernel_launcher.py:30: SettingWithCopyWarning: \n",
      "A value is trying to be set on a copy of a slice from a DataFrame.\n",
      "Try using .loc[row_indexer,col_indexer] = value instead\n",
      "\n",
      "See the caveats in the documentation: http://pandas.pydata.org/pandas-docs/stable/indexing.html#indexing-view-versus-copy\n"
     ]
    }
   ],
   "source": [
    "from sklearn.model_selection import TimeSeriesSplit\n",
    "\n",
    "import warnings\n",
    "warnings.simplefilter(action='ignore', category=FutureWarning)\n",
    "\n",
    "params = {\n",
    "    'verbosity':0,\n",
    "    'max_depth': 4,\n",
    "\n",
    "#     'learning_rate': 0.05,\n",
    "    'min_child_weight': 6,\n",
    "#     'subsample':0.8, \n",
    "#     'colsample_bytree':0.8,\n",
    "    'gamma': 12,\n",
    "}\n",
    "\n",
    "reg = xgb.XGBRegressor(**params)\n",
    "predict_xa = predict_mix.predict_model_split(reg, XA, cA, 'c', 5)\n",
    "predict_xd = predict_mix.predict_model_split(reg, XD, cD, 'c', 5)\n",
    "\n",
    "for a, d in zip(predict_xa, predict_xd):\n",
    "    # foo\n",
    "    train_size = a[0].size\n",
    "    test_size = a[1].size\n",
    "    target_train = target_minT.iloc[0:train_size]\n",
    "    target_test = target_minT.iloc[train_size - 1:train_size + test_size - 1]\n",
    "    \n",
    "    target_train['prediction'] = idwt(a[0].loc[:, 'prediction'], d[0].loc[:, 'prediction'])\n",
    "\n",
    "    target_test['prediction'] = idwt(a[1].loc[:, 'prediction'], d[1].loc[:, 'prediction'])\n",
    "    \n",
    "    print(\"Train\")\n",
    "    predict_mix.print_mean(target_train[[cn.value]], target_train[['prediction']])\n",
    "    print(\"Test\")\n",
    "    predict_mix.print_mean(target_test[[cn.value]], target_test[['prediction']])\n",
    "    print()"
   ]
  },
  {
   "cell_type": "code",
   "execution_count": null,
   "metadata": {},
   "outputs": [],
   "source": []
  }
 ],
 "metadata": {
  "kernelspec": {
   "display_name": "Python 3",
   "language": "python",
   "name": "python3"
  },
  "language_info": {
   "codemirror_mode": {
    "name": "ipython",
    "version": 3
   },
   "file_extension": ".py",
   "mimetype": "text/x-python",
   "name": "python",
   "nbconvert_exporter": "python",
   "pygments_lexer": "ipython3",
   "version": "3.5.0"
  }
 },
 "nbformat": 4,
 "nbformat_minor": 2
}
