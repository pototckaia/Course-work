{
 "cells": [
  {
   "cell_type": "code",
   "execution_count": 5,
   "metadata": {},
   "outputs": [
    {
     "name": "stdout",
     "output_type": "stream",
     "text": [
      "(1810, 54)\n"
     ]
    }
   ],
   "source": [
    "import numpy as np\n",
    "import pandas as pd\n",
    "import scipy.sparse\n",
    "import xgboost as xgb\n",
    "import mix_pandas as mix\n",
    "import predict as predict_mix\n",
    "import db_column_name as db\n",
    "\n",
    "%matplotlib inline\n",
    "import matplotlib.pyplot as plt\n",
    "%config InlineBackend.figure_format = 'svg'\n",
    "\n",
    "from pylab import rcParams\n",
    "rcParams['figure.figsize'] = 10, 7\n",
    "\n",
    "\n",
    "cn = db.ColumnName()\n",
    "\n",
    "target_minT = pd.read_csv('./data/31286_103.csv')\n",
    "mix.set_index_date(target_minT, cn.date)\n",
    "\n",
    "X = pd.read_csv('./data/character_31286.csv')\n",
    "mix.set_index_date(X, cn.date)\n",
    "\n",
    "X = X.drop([cn.point], axis=1)\n",
    "X = X[[x for x in X.columns if 'avg' in x or \n",
    "       x == cn.offset]]\n",
    "    \n",
    "X = mix.mean_day(X)\n",
    "target_minT.index = target_minT.index.round('D')\n",
    "\n",
    "X = X.drop([cn.offset], axis=1)\n",
    "\n",
    "target_minT = target_minT.reindex(X.index)\n",
    "target_minT = mix.clean(target_minT)\n",
    "X = X.reindex(target_minT.index)\n",
    "X = mix.clean(X)\n",
    "\n",
    "print(X.shape)"
   ]
  },
  {
   "cell_type": "code",
   "execution_count": 6,
   "metadata": {},
   "outputs": [
    {
     "name": "stdout",
     "output_type": "stream",
     "text": [
      "(1369, 54)\n"
     ]
    }
   ],
   "source": [
    "target_minT = mix.winsorized(target_minT, cn.value, [0.1, 0.80])\n",
    "X = X.reindex(target_minT.index)\n",
    "print(X.shape)"
   ]
  },
  {
   "cell_type": "code",
   "execution_count": 4,
   "metadata": {},
   "outputs": [
    {
     "name": "stderr",
     "output_type": "stream",
     "text": [
      "c:\\users\\home1\\appdata\\local\\programs\\python\\python35\\lib\\site-packages\\pandas\\core\\indexing.py:362: SettingWithCopyWarning: \n",
      "A value is trying to be set on a copy of a slice from a DataFrame.\n",
      "Try using .loc[row_indexer,col_indexer] = value instead\n",
      "\n",
      "See the caveats in the documentation: http://pandas.pydata.org/pandas-docs/stable/indexing.html#indexing-view-versus-copy\n",
      "  self.obj[key] = _infer_fill_value(value)\n",
      "c:\\users\\home1\\appdata\\local\\programs\\python\\python35\\lib\\site-packages\\pandas\\core\\indexing.py:635: SettingWithCopyWarning: \n",
      "A value is trying to be set on a copy of a slice from a DataFrame.\n",
      "Try using .loc[row_indexer,col_indexer] = value instead\n",
      "\n",
      "See the caveats in the documentation: http://pandas.pydata.org/pandas-docs/stable/indexing.html#indexing-view-versus-copy\n",
      "  self.obj[item_labels[indexer[info_axis]]] = value\n"
     ]
    },
    {
     "name": "stdout",
     "output_type": "stream",
     "text": [
      "Train size 229\n",
      "Mean squared error 0.94441\n",
      "Mean absolute error 0.75858\n",
      "Median absolute error 0.61030\n",
      "Test size 228\n",
      "Mean squared error 18.55725\n",
      "Mean absolute error 3.26806\n",
      "Median absolute error 2.49027\n",
      "\n",
      "Train size 457\n",
      "Mean squared error 1.57737\n",
      "Mean absolute error 0.96697\n",
      "Median absolute error 0.75187\n",
      "Test size 228\n",
      "Mean squared error 13.39991\n",
      "Mean absolute error 2.70867\n",
      "Median absolute error 2.17180\n",
      "\n",
      "Train size 685\n",
      "Mean squared error 2.55529\n",
      "Mean absolute error 1.23715\n",
      "Median absolute error 0.96999\n",
      "Test size 228\n",
      "Mean squared error 45.03652\n",
      "Mean absolute error 4.49457\n",
      "Median absolute error 2.84855\n",
      "\n",
      "Train size 913\n",
      "Mean squared error 3.68401\n",
      "Mean absolute error 1.46650\n",
      "Median absolute error 1.18657\n",
      "Test size 228\n",
      "Mean squared error 44.99581\n",
      "Mean absolute error 5.42401\n",
      "Median absolute error 4.75557\n",
      "\n",
      "Train size 1141\n",
      "Mean squared error 4.28352\n",
      "Mean absolute error 1.57727\n",
      "Median absolute error 1.24886\n",
      "Test size 228\n",
      "Mean squared error 15.72913\n",
      "Mean absolute error 3.28434\n",
      "Median absolute error 3.13302\n",
      "\n"
     ]
    }
   ],
   "source": [
    "default_params = {\n",
    "    'verbosity':0,\n",
    "    'max_depth': 3,\n",
    "    \n",
    "    'min_child_weight': 3.01,\n",
    "    'subsample':0.8, \n",
    "    'colsample_bytree':0.8,\n",
    "    'gamma': 9,\n",
    "}\n",
    "reg = xgb.XGBRegressor(**default_params)\n",
    "\n",
    "predict = predict_mix.predict_model_split(reg, X, target_minT, cn.value, 5)\n",
    "\n",
    "for train, test in predict:\n",
    "    print(\"Train size {}\".format(train.shape[0]))\n",
    "    predict_mix.print_mean(train[[cn.value]], train[['prediction']])\n",
    "    print(\"Test size {}\".format(test.shape[0]))\n",
    "    predict_mix.print_mean(test[[cn.value]], test[['prediction']])\n",
    "    print()\n",
    "    # test.plot(ylim=(-40, 40))"
   ]
  },
  {
   "cell_type": "code",
   "execution_count": 19,
   "metadata": {},
   "outputs": [
    {
     "name": "stdout",
     "output_type": "stream",
     "text": [
      "Train size 106\n",
      "Mean squared error 0.92447\n",
      "Mean absolute error 0.77227\n",
      "Median absolute error 0.67464\n",
      "Test size 101\n",
      "Mean squared error 22.42063\n",
      "Mean absolute error 3.62231\n",
      "Median absolute error 2.64952\n",
      "\n",
      "Train size 207\n",
      "Mean squared error 1.24739\n",
      "Mean absolute error 0.86452\n",
      "Median absolute error 0.71597\n",
      "Test size 101\n",
      "Mean squared error 10.62601\n",
      "Mean absolute error 2.62474\n",
      "Median absolute error 2.30842\n",
      "\n",
      "Train size 308\n",
      "Mean squared error 1.73058\n",
      "Mean absolute error 1.05730\n",
      "Median absolute error 0.91793\n",
      "Test size 101\n",
      "Mean squared error 36.11188\n",
      "Mean absolute error 3.85983\n",
      "Median absolute error 2.04148\n",
      "\n",
      "Train size 409\n",
      "Mean squared error 1.86247\n",
      "Mean absolute error 1.08021\n",
      "Median absolute error 0.90386\n",
      "Test size 101\n",
      "Mean squared error 48.73883\n",
      "Mean absolute error 5.56155\n",
      "Median absolute error 4.35460\n",
      "\n",
      "Train size 510\n",
      "Mean squared error 1.84944\n",
      "Mean absolute error 1.07234\n",
      "Median absolute error 0.85230\n",
      "Test size 101\n",
      "Mean squared error 17.70056\n",
      "Mean absolute error 3.48035\n",
      "Median absolute error 3.18622\n",
      "\n"
     ]
    }
   ],
   "source": [
    "X_3mean = X.resample('3D').mean()\n",
    "X_3mean = mix.clean(X_3mean)\n",
    "target_3mean = target_minT.resample('3D').mean()\n",
    "target_3mean = mix.clean(target_3mean)\n",
    "\n",
    "params = {\n",
    "    'verbosity':0,\n",
    "    'max_depth': 3,\n",
    "    \n",
    "    'min_child_weight': 3.01,\n",
    "    'gamma': 9,\n",
    "}\n",
    "reg_mean = xgb.XGBRegressor(**params)\n",
    "\n",
    "predict = predict_mix.predict_model_split(reg_mean, X_3mean, target_3mean, cn.value, 5)\n",
    "for train, test in predict:\n",
    "    print(\"Train size {}\".format(train.shape[0]))\n",
    "    predict_mix.print_mean(train[[cn.value]], train[['prediction']])\n",
    "    print(\"Test size {}\".format(test.shape[0]))\n",
    "    predict_mix.print_mean(test[[cn.value]], test[['prediction']])\n",
    "    print()\n",
    "    # test.plot(ylim=(-40, 40))"
   ]
  }
 ],
 "metadata": {
  "kernelspec": {
   "display_name": "Python 3",
   "language": "python",
   "name": "python3"
  },
  "language_info": {
   "codemirror_mode": {
    "name": "ipython",
    "version": 3
   },
   "file_extension": ".py",
   "mimetype": "text/x-python",
   "name": "python",
   "nbconvert_exporter": "python",
   "pygments_lexer": "ipython3",
   "version": "3.5.0"
  }
 },
 "nbformat": 4,
 "nbformat_minor": 2
}
