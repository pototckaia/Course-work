{
 "cells": [
  {
   "cell_type": "code",
   "execution_count": 32,
   "metadata": {},
   "outputs": [
    {
     "name": "stdout",
     "output_type": "stream",
     "text": [
      "(1810, 54)\n",
      "(1517, 54)\n"
     ]
    }
   ],
   "source": [
    "import numpy as np\n",
    "import pandas as pd\n",
    "import scipy.sparse\n",
    "import xgboost as xgb\n",
    "import mix_pandas as mix\n",
    "import predict as predict_mix\n",
    "import db_column_name as db\n",
    "\n",
    "%matplotlib inline\n",
    "import matplotlib.pyplot as plt\n",
    "%config InlineBackend.figure_format = 'svg'\n",
    "\n",
    "from pylab import rcParams\n",
    "rcParams['figure.figsize'] = 10, 7\n",
    "\n",
    "\n",
    "cn = db.ColumnName()\n",
    "\n",
    "target_minT = pd.read_csv('./data/31286_103.csv')\n",
    "mix.set_index_date(target_minT, cn.date)\n",
    "\n",
    "X = pd.read_csv('./data/character_31286.csv')\n",
    "mix.set_index_date(X, cn.date)\n",
    "\n",
    "X = X.drop([cn.point], axis=1)\n",
    "X = X[[x for x in X.columns if 'avg' in x or \n",
    "       x == cn.offset]]\n",
    "    \n",
    "X = mix.mean_day(X)\n",
    "target_minT.index = target_minT.index.round('D')\n",
    "\n",
    "X = X.drop([cn.offset], axis=1)\n",
    "\n",
    "target_minT = target_minT.reindex(X.index)\n",
    "target_minT = mix.clean(target_minT)\n",
    "X = X.reindex(target_minT.index)\n",
    "X = mix.clean(X)\n",
    "\n",
    "print(X.shape)\n",
    "\n",
    "target_minT = mix.winsorized(target_minT, cn.value, [0.05, 0.95])\n",
    "X = X.reindex(target_minT.index)\n",
    "print(X.shape)"
   ]
  },
  {
   "cell_type": "code",
   "execution_count": 33,
   "metadata": {},
   "outputs": [
    {
     "name": "stdout",
     "output_type": "stream",
     "text": [
      "(818, 54)\n"
     ]
    }
   ],
   "source": [
    "X = X[X.index.year < 2016]\n",
    "target_minT = target_minT[target_minT.index.year < 2016]\n",
    "print(X.shape)"
   ]
  },
  {
   "cell_type": "code",
   "execution_count": 25,
   "metadata": {},
   "outputs": [
    {
     "name": "stdout",
     "output_type": "stream",
     "text": [
      "Train size 138\n",
      "Mean squared error 2.65880\n",
      "Mean absolute error 1.22022\n",
      "Median absolute error 0.88609\n",
      "Test size 136\n",
      "Mean squared error 32.96026\n",
      "Mean absolute error 5.18630\n",
      "Median absolute error 5.35470\n",
      "\n",
      "Train size 274\n",
      "Mean squared error 3.59755\n",
      "Mean absolute error 1.51466\n",
      "Median absolute error 1.16941\n",
      "Test size 136\n",
      "Mean squared error 13.94057\n",
      "Mean absolute error 2.83773\n",
      "Median absolute error 1.92576\n",
      "\n",
      "Train size 410\n",
      "Mean squared error 4.76823\n",
      "Mean absolute error 1.72384\n",
      "Median absolute error 1.36212\n",
      "Test size 136\n",
      "Mean squared error 15.63926\n",
      "Mean absolute error 3.00765\n",
      "Median absolute error 2.11652\n",
      "\n",
      "Train size 546\n",
      "Mean squared error 6.03552\n",
      "Mean absolute error 1.87954\n",
      "Median absolute error 1.45498\n",
      "Test size 136\n",
      "Mean squared error 17.22294\n",
      "Mean absolute error 2.87893\n",
      "Median absolute error 2.00153\n",
      "\n",
      "Train size 682\n",
      "Mean squared error 7.07233\n",
      "Mean absolute error 2.01908\n",
      "Median absolute error 1.59410\n",
      "Test size 136\n",
      "Mean squared error 17.98669\n",
      "Mean absolute error 3.37463\n",
      "Median absolute error 2.84620\n",
      "\n"
     ]
    }
   ],
   "source": [
    "default_params = {\n",
    "    'verbosity':0,\n",
    "    'max_depth': 3,\n",
    "    \n",
    "    'min_child_weight': 3.01,\n",
    "    'learning_rate': 0.03,\n",
    "}\n",
    "reg = xgb.XGBRegressor(**default_params)\n",
    "\n",
    "predict = predict_mix.predict_model_split(reg, X, target_minT, cn.value, 5)\n",
    "\n",
    "for train, test in predict:\n",
    "    print(\"Train size {}\".format(train.shape[0]))\n",
    "    predict_mix.print_mean(train[[cn.value]], train[['prediction']])\n",
    "    print(\"Test size {}\".format(test.shape[0]))\n",
    "    predict_mix.print_mean(test[[cn.value]], test[['prediction']])\n",
    "    print()\n",
    "    \n",
    "    # 14.7 7.3 17.7 11.1 14.1\n",
    "    "
   ]
  },
  {
   "cell_type": "code",
   "execution_count": 14,
   "metadata": {},
   "outputs": [
    {
     "name": "stdout",
     "output_type": "stream",
     "text": [
      "Train size 83\n",
      "Mean squared error 1.91123\n",
      "Mean absolute error 0.99251\n",
      "Median absolute error 0.55147\n",
      "Test size 81\n",
      "Mean squared error 27.90297\n",
      "Mean absolute error 4.80492\n",
      "Median absolute error 5.19563\n",
      "\n",
      "Train size 164\n",
      "Mean squared error 2.71347\n",
      "Mean absolute error 1.26867\n",
      "Median absolute error 0.98728\n",
      "Test size 81\n",
      "Mean squared error 9.08681\n",
      "Mean absolute error 2.25445\n",
      "Median absolute error 1.78672\n",
      "\n",
      "Train size 245\n",
      "Mean squared error 3.17663\n",
      "Mean absolute error 1.39574\n",
      "Median absolute error 1.14819\n",
      "Test size 81\n",
      "Mean squared error 14.74562\n",
      "Mean absolute error 3.05870\n",
      "Median absolute error 2.53795\n",
      "\n",
      "Train size 326\n",
      "Mean squared error 4.09256\n",
      "Mean absolute error 1.56394\n",
      "Median absolute error 1.15385\n",
      "Test size 81\n",
      "Mean squared error 14.88930\n",
      "Mean absolute error 2.73003\n",
      "Median absolute error 2.23774\n",
      "\n",
      "Train size 407\n",
      "Mean squared error 4.92164\n",
      "Mean absolute error 1.69798\n",
      "Median absolute error 1.33657\n",
      "Test size 81\n",
      "Mean squared error 16.49371\n",
      "Mean absolute error 3.29790\n",
      "Median absolute error 2.61506\n",
      "\n"
     ]
    }
   ],
   "source": [
    "X_3mean = X.resample('2D').mean()\n",
    "X_3mean = mix.clean(X_3mean)\n",
    "target_3mean = target_minT.resample('2D').mean()\n",
    "target_3mean = mix.clean(target_3mean)\n",
    "\n",
    "params = {\n",
    "    'verbosity':0,\n",
    "    'max_depth': 3,\n",
    "    \n",
    "    'learning_rate': 0.03,\n",
    "    'min_child_weight': 3,\n",
    "}\n",
    "reg_mean = xgb.XGBRegressor(**params)\n",
    "\n",
    "predict = predict_mix.predict_model_split(reg_mean, X_3mean, target_3mean, cn.value, 5)\n",
    "for train, test in predict:\n",
    "    print(\"Train size {}\".format(train.shape[0]))\n",
    "    predict_mix.print_mean(train[[cn.value]], train[['prediction']])\n",
    "    print(\"Test size {}\".format(test.shape[0]))\n",
    "    predict_mix.print_mean(test[[cn.value]], test[['prediction']])\n",
    "    print()"
   ]
  }
 ],
 "metadata": {
  "kernelspec": {
   "display_name": "Python 3",
   "language": "python",
   "name": "python3"
  },
  "language_info": {
   "codemirror_mode": {
    "name": "ipython",
    "version": 3
   },
   "file_extension": ".py",
   "mimetype": "text/x-python",
   "name": "python",
   "nbconvert_exporter": "python",
   "pygments_lexer": "ipython3",
   "version": "3.7.3"
  }
 },
 "nbformat": 4,
 "nbformat_minor": 2
}
