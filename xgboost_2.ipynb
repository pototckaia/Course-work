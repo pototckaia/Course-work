{
 "cells": [
  {
   "cell_type": "code",
   "execution_count": 41,
   "metadata": {},
   "outputs": [
    {
     "name": "stdout",
     "output_type": "stream",
     "text": [
      "(1810, 55)\n"
     ]
    }
   ],
   "source": [
    "import pandas as pd\n",
    "\n",
    "import mix as mix\n",
    "import db_column_name as db\n",
    "\n",
    "import numpy as np\n",
    "pd.set_option('precision', 10)\n",
    "\n",
    "import scipy.sparse\n",
    "import pickle\n",
    "import xgboost as xgb\n",
    "\n",
    "%matplotlib inline\n",
    "import seaborn as sns\n",
    "import matplotlib.pyplot as plt\n",
    "%config InlineBackend.figure_format = 'svg'\n",
    "\n",
    "from pylab import rcParams\n",
    "rcParams['figure.figsize'] = 20,10\n",
    "\n",
    "# offset can be 9, 21. 33, 45, 57, 69\n",
    "cn = db.ColumnName()\n",
    "\n",
    "target_minT = pd.read_csv('./data/31286_103.csv')\n",
    "mix.set_index_date(target_minT, cn.date)\n",
    "target_minT = target_minT.sort_index()\n",
    "\n",
    "X = pd.read_csv('./data/character_31286.csv')\n",
    "mix.set_index_date(X, cn.date)\n",
    "X = X.sort_index()\n",
    "\n",
    "X = X.drop([cn.point], axis=1)\n",
    "X = X[[x for x in X.columns if 'avg' in x or \n",
    "       x == cn.offset]]\n",
    "\n",
    "X = X.groupby([X.index.year, \n",
    "           X.index.month, \n",
    "           X.index.day]).mean()\n",
    "a = pd.DataFrame(X.index.tolist(), \n",
    "                 columns=['year','month','day'])\n",
    "X.index = pd.to_datetime(a)\n",
    "X = X.drop([cn.offset], axis=1)\n",
    "\n",
    "target_minT.index = target_minT.index.round('D')\n",
    "\n",
    "X[cn.value] = target_minT\n",
    "X = mix.clean_dataset(X)\n",
    "\n",
    "print(X.shape)"
   ]
  },
  {
   "cell_type": "code",
   "execution_count": 42,
   "metadata": {},
   "outputs": [],
   "source": [
    "X['winsorized'] = X[cn.value]\n",
    "for index, row in X.iterrows(): \n",
    "    \n",
    "    offset_day = pd.to_timedelta(5, unit='day')\n",
    "    start_date = index - offset_day\n",
    "    end_date = index + offset_day\n",
    "    \n",
    "    s = X.iloc[(X.index >= start_date) & (X.index <= end_date)]\n",
    "    s = s[[cn.value]]\n",
    "    \n",
    "    q = s.quantile([0.1, 0.80])\n",
    "    \n",
    "    v = row[cn.value]\n",
    "    if (v < q.iloc[0, 0]):\n",
    "        X.loc[index, 'winsorized'] = q.iloc[0, 0]\n",
    "    elif (v > q.iloc[1, 0]):\n",
    "        X.loc[index, 'winsorized'] = q.iloc[1, 0]\n",
    "    \n",
    "# X[['winsorized', cn.value]].plot(style='.')"
   ]
  },
  {
   "cell_type": "code",
   "execution_count": 43,
   "metadata": {},
   "outputs": [],
   "source": [
    "X[cn.value] = X['winsorized']\n",
    "X = X.drop(['winsorized'], axis=1)"
   ]
  },
  {
   "cell_type": "code",
   "execution_count": 44,
   "metadata": {},
   "outputs": [
    {
     "name": "stdout",
     "output_type": "stream",
     "text": [
      "\n",
      "Cross validate test mean squared error : [-25.55635682 -10.43952444 -24.77250429 -11.78253331 -15.13415279\n",
      " -65.09807874 -52.51214934 -17.08560747 -13.41637466  -9.11633933]\n",
      "\n",
      "Cross validate train mean squared error : [-1.34047901 -1.29065682 -1.48994949 -1.8859372  -2.10760312 -2.37743797\n",
      " -2.76512495 -3.12403464 -3.42772926 -3.85611925]\n",
      "\n",
      "Cross validate test mean median absolute error : [-4.82776089 -1.65562139 -2.61124504 -2.08518081 -2.67502299 -2.95949335\n",
      " -5.2790432  -2.66671221 -2.73017421 -1.84698048]\n",
      "\n",
      "Cross validate train mean median absolute error : [-0.63990345 -0.72693601 -0.79639465 -0.84213772 -0.88881044 -0.96324134\n",
      " -1.05097934 -1.07788138 -1.12365894 -1.19750862]\n"
     ]
    }
   ],
   "source": [
    "from sklearn.model_selection import TimeSeriesSplit\n",
    "from sklearn.model_selection import cross_validate\n",
    "\n",
    "def fit(params, X, target):\n",
    "    reg = xgb.XGBRegressor(**params)\n",
    "\n",
    "    scores = cross_validate(reg, X, target, \n",
    "                        scoring=['neg_mean_squared_error', 'neg_median_absolute_error', 'neg_mean_absolute_error'],\n",
    "                        cv=TimeSeriesSplit(10), \n",
    "                        return_train_score=True)\n",
    "    print()\n",
    "    print(\"Cross validate test mean squared error : {}\".format(scores['test_neg_mean_squared_error']))\n",
    "    print()\n",
    "    print(\"Cross validate train mean squared error : {}\".format(scores['train_neg_mean_squared_error']))\n",
    "    print()\n",
    "    print(\"Cross validate test mean median absolute error : {}\".format(scores['test_neg_median_absolute_error']))\n",
    "    print()\n",
    "    print(\"Cross validate train mean median absolute error : {}\".format(scores['train_neg_median_absolute_error']))\n",
    "\n",
    "    \n",
    "default_params = {\n",
    "    'verbosity':0,\n",
    "    'max_depth': 4,\n",
    "    \n",
    "    'learning_rate': 0.09,\n",
    "    'min_child_weight': 6,\n",
    "    'subsample':0.8, \n",
    "    'colsample_bytree':0.8,\n",
    "    'gamma': 16,\n",
    "}\n",
    "\n",
    "X_clear, target_minT = mix.getTarget(X)\n",
    "fit(default_params, X_clear, target_minT)\n"
   ]
  },
  {
   "cell_type": "code",
   "execution_count": 47,
   "metadata": {},
   "outputs": [
    {
     "name": "stdout",
     "output_type": "stream",
     "text": [
      "\n",
      "Cross validate test mean squared error : [-24.96574706  -5.988681   -13.43240133  -5.6567297  -12.39570799\n",
      " -52.38259194 -53.07626979 -13.77429252 -14.87735063  -7.75142376]\n",
      "\n",
      "Cross validate train mean squared error : [-1.28235769 -1.19283124 -1.16538668 -1.22758472 -1.17282559 -1.29687994\n",
      " -1.39568884 -1.49685979 -1.58953219 -1.57165541]\n",
      "\n",
      "Cross validate test mean median absolute error : [-5.07988348 -1.91103319 -2.40177011 -1.84570805 -2.04781628 -2.28911222\n",
      " -4.68767765 -2.85968265 -2.53195186 -2.11628695]\n",
      "\n",
      "Cross validate train mean median absolute error : [-0.47210641 -0.68983059 -0.67773809 -0.63064944 -0.69763279 -0.74054038\n",
      " -0.74304291 -0.78796549 -0.76853728 -0.76854785]\n"
     ]
    }
   ],
   "source": [
    "X_ = X.resample('3D').mean()\n",
    "X_ = mix.clean_dataset(X_)\n",
    "\n",
    "params_mean = {\n",
    "    'verbosity':0,\n",
    "    'max_depth': 4,\n",
    "    \n",
    "    'learning_rate': 0.09,\n",
    "    'min_child_weight': 6,\n",
    "#     'subsample':0.9, \n",
    "#     'colsample_bytree':0.8,\n",
    "    'gamma': 12,\n",
    "}\n",
    "\n",
    "X_3mean, target_3mean = mix.getTarget(X_)\n",
    "fit(params_mean, X_3mean, target_3mean)"
   ]
  },
  {
   "cell_type": "code",
   "execution_count": null,
   "metadata": {},
   "outputs": [],
   "source": []
  }
 ],
 "metadata": {
  "kernelspec": {
   "display_name": "Python 3",
   "language": "python",
   "name": "python3"
  },
  "language_info": {
   "codemirror_mode": {
    "name": "ipython",
    "version": 3
   },
   "file_extension": ".py",
   "mimetype": "text/x-python",
   "name": "python",
   "nbconvert_exporter": "python",
   "pygments_lexer": "ipython3",
   "version": "3.7.2"
  }
 },
 "nbformat": 4,
 "nbformat_minor": 2
}
