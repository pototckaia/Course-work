{
 "cells": [
  {
   "cell_type": "code",
   "execution_count": 69,
   "metadata": {},
   "outputs": [
    {
     "name": "stdout",
     "output_type": "stream",
     "text": [
      "(1810, 1)\n",
      "(1810, 54)\n"
     ]
    }
   ],
   "source": [
    "import pandas as pd\n",
    "\n",
    "import mix as mix\n",
    "import db_column_name as db\n",
    "\n",
    "# offset can be 9, 21. 33, 45, 57, 69\n",
    "cn = db.ColumnName()\n",
    "\n",
    "target_minT = pd.read_csv('./date/31286_103.csv')\n",
    "mix.set_index_date(target_minT, cn.date)\n",
    "target_minT = target_minT.sort_index()\n",
    "\n",
    "X = pd.read_csv('./date/character_31286.csv')\n",
    "mix.set_index_date(X, cn.date)\n",
    "X = X.sort_index()\n",
    "\n",
    "X = X.drop([cn.point], axis=1)\n",
    "X = X[[x for x in X.columns if 'avg' in x or x == cn.offset]]\n",
    "\n",
    "X = X.groupby([X.index.year, \n",
    "           X.index.month, \n",
    "           X.index.day]).mean()\n",
    "a = pd.DataFrame(X.index.tolist(), \n",
    "                 columns=['year','month','day'])\n",
    "X.index = pd.to_datetime(a)\n",
    "X = X.drop([cn.offset], axis=1)\n",
    "\n",
    "target_minT.index = target_minT.index.round('D')\n",
    "\n",
    "X[cn.value] = target_minT\n",
    "X = mix.clean_dataset(X)\n",
    "\n",
    "X, target_minT = mix.getTarget(X)\n",
    "\n",
    "print(target_minT.shape)\n",
    "print(X.shape)"
   ]
  },
  {
   "cell_type": "code",
   "execution_count": 70,
   "metadata": {},
   "outputs": [
    {
     "name": "stdout",
     "output_type": "stream",
     "text": [
      "Size train (1659, 54)\n",
      "Size train (151, 54)\n"
     ]
    }
   ],
   "source": [
    "import numpy as np\n",
    "pd.set_option('precision', 10)\n",
    "\n",
    "import scipy.sparse\n",
    "import pickle\n",
    "import xgboost as xgb\n",
    "\n",
    "%matplotlib inline\n",
    "import seaborn as sns\n",
    "import matplotlib.pyplot as plt\n",
    "%config InlineBackend.figure_format = 'svg'\n",
    "\n",
    "from pylab import rcParams\n",
    "rcParams['figure.figsize'] = 20,10\n",
    "\n",
    "split_year = 2017\n",
    "\n",
    "target_train = mix.year_less_eq(target_minT, split_year)\n",
    "X_train = mix.year_less_eq(X, split_year)\n",
    "        \n",
    "target_test = mix.year_great(target_minT, split_year)\n",
    "X_test = mix.year_great(X, split_year)\n",
    "\n",
    "print(\"Size train {}\".format(X_train.shape))\n",
    "print(\"Size train {}\".format(X_test.shape))\n",
    "\n",
    "#     df = df.drop(['min slptend', 'min advRh850', 'min rainc', \n",
    "#                   'min totalprecip', 'min t2', 'min rainnc'], axis=1)"
   ]
  },
  {
   "cell_type": "code",
   "execution_count": 73,
   "metadata": {},
   "outputs": [],
   "source": [
    "# target_train[(target_train.index.year == 2016)&(target_train.index.month == 1)].plot()"
   ]
  },
  {
   "cell_type": "code",
   "execution_count": null,
   "metadata": {},
   "outputs": [],
   "source": []
  }
 ],
 "metadata": {
  "kernelspec": {
   "display_name": "Python 3",
   "language": "python",
   "name": "python3"
  },
  "language_info": {
   "codemirror_mode": {
    "name": "ipython",
    "version": 3
   },
   "file_extension": ".py",
   "mimetype": "text/x-python",
   "name": "python",
   "nbconvert_exporter": "python",
   "pygments_lexer": "ipython3",
   "version": "3.7.2"
  }
 },
 "nbformat": 4,
 "nbformat_minor": 2
}
