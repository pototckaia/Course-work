{
 "cells": [
  {
   "cell_type": "code",
   "execution_count": 1,
   "metadata": {},
   "outputs": [
    {
     "name": "stdout",
     "output_type": "stream",
     "text": [
      "(1517, 54)\n"
     ]
    }
   ],
   "source": [
    "import numpy as np\n",
    "import pandas as pd\n",
    "import scipy.sparse\n",
    "import xgboost as xgb\n",
    "import mix_pandas as mix\n",
    "import predict as predict_mix\n",
    "import db_column_name as db\n",
    "\n",
    "%matplotlib inline\n",
    "import matplotlib.pyplot as plt\n",
    "%config InlineBackend.figure_format = 'svg'\n",
    "\n",
    "from pylab import rcParams\n",
    "rcParams['figure.figsize'] = 10, 7\n",
    "\n",
    "\n",
    "cn = db.ColumnName()\n",
    "\n",
    "target_minT = pd.read_csv('./data/31286_103.csv')\n",
    "mix.set_index_date(target_minT, cn.date)\n",
    "\n",
    "X = pd.read_csv('./data/character_31286.csv')\n",
    "mix.set_index_date(X, cn.date)\n",
    "\n",
    "X = X.drop([cn.point], axis=1)\n",
    "X = X[[x for x in X.columns if 'avg' in x or \n",
    "       x == cn.offset]]\n",
    "    \n",
    "X = mix.mean_day(X)\n",
    "target_minT.index = target_minT.index.round('D')\n",
    "\n",
    "X = X.drop([cn.offset], axis=1)\n",
    "\n",
    "target_minT = target_minT.reindex(X.index)\n",
    "target_minT = mix.clean(target_minT)\n",
    "X = X.reindex(target_minT.index)\n",
    "X = mix.clean(X)\n",
    "\n",
    "target_minT = mix.winsorized(target_minT, cn.value, [0.05, 0.95])\n",
    "X = X.reindex(target_minT.index)\n",
    "print(X.shape)\n"
   ]
  },
  {
   "cell_type": "code",
   "execution_count": 2,
   "metadata": {},
   "outputs": [
    {
     "name": "stdout",
     "output_type": "stream",
     "text": [
      "(818, 54)\n"
     ]
    }
   ],
   "source": [
    "X = X[X.index.year < 2016]\n",
    "target_minT = target_minT[target_minT.index.year < 2016]\n",
    "print(X.shape)"
   ]
  },
  {
   "cell_type": "code",
   "execution_count": 4,
   "metadata": {},
   "outputs": [
    {
     "name": "stdout",
     "output_type": "stream",
     "text": [
      "Train size 138\n",
      "Mean squared error 5.77232\n",
      "Mean absolute error 1.92098\n",
      "Median absolute error 1.71034\n",
      "Test size 136\n",
      "Mean squared error 21.93442\n",
      "Mean absolute error 3.73301\n",
      "Median absolute error 3.23564\n",
      "\n",
      "Train size 274\n",
      "Mean squared error 6.85471\n",
      "Mean absolute error 2.09460\n",
      "Median absolute error 1.79728\n",
      "Test size 136\n",
      "Mean squared error 91598697841.75485\n",
      "Mean absolute error 25954.84901\n",
      "Median absolute error 2.06724\n",
      "\n",
      "Train size 410\n",
      "Mean squared error 7.29691\n",
      "Mean absolute error 2.10023\n",
      "Median absolute error 1.64537\n",
      "Test size 136\n",
      "Mean squared error 19.86829\n",
      "Mean absolute error 3.26155\n",
      "Median absolute error 2.62334\n",
      "\n",
      "Train size 546\n",
      "Mean squared error 8.65934\n",
      "Mean absolute error 2.29737\n",
      "Median absolute error 1.84333\n",
      "Test size 136\n",
      "Mean squared error 12.94804\n",
      "Mean absolute error 2.76527\n",
      "Median absolute error 2.38496\n",
      "\n",
      "Train size 682\n",
      "Mean squared error 9.22692\n",
      "Mean absolute error 2.33165\n",
      "Median absolute error 1.86379\n",
      "Test size 136\n",
      "Mean squared error 14.07580\n",
      "Mean absolute error 2.97560\n",
      "Median absolute error 2.27283\n",
      "\n"
     ]
    }
   ],
   "source": [
    "from sklearn.linear_model import LinearRegression, Lasso, RidgeCV\n",
    "\n",
    "predict = predict_mix.predict_model_split(LinearRegression(), X, target_minT, cn.value, 5)\n",
    "for train, test in predict:\n",
    "    print(\"Train size {}\".format(train.shape[0]))\n",
    "    predict_mix.print_mean(train[[cn.value]], train[['prediction']])\n",
    "    print(\"Test size {}\".format(test.shape[0]))\n",
    "    predict_mix.print_mean(test[[cn.value]], test[['prediction']])\n",
    "    print()"
   ]
  },
  {
   "cell_type": "code",
   "execution_count": 8,
   "metadata": {},
   "outputs": [
    {
     "name": "stderr",
     "output_type": "stream",
     "text": [
      "/usr/lib/python3.7/site-packages/sklearn/linear_model/coordinate_descent.py:492: ConvergenceWarning: Objective did not converge. You might want to increase the number of iterations. Fitting data with very small alpha may cause precision problems.\n",
      "  ConvergenceWarning)\n",
      "/usr/lib/python3.7/site-packages/sklearn/linear_model/coordinate_descent.py:492: ConvergenceWarning: Objective did not converge. You might want to increase the number of iterations. Fitting data with very small alpha may cause precision problems.\n",
      "  ConvergenceWarning)\n"
     ]
    },
    {
     "name": "stdout",
     "output_type": "stream",
     "text": [
      "Train size 138\n",
      "Mean squared error 8.80328\n",
      "Mean absolute error 2.37742\n",
      "Median absolute error 2.02186\n",
      "Test size 136\n",
      "Mean squared error 24.90841\n",
      "Mean absolute error 4.13225\n",
      "Median absolute error 3.38528\n",
      "\n",
      "Train size 274\n",
      "Mean squared error 10.56489\n",
      "Mean absolute error 2.58347\n",
      "Median absolute error 2.11871\n",
      "Test size 136\n",
      "Mean squared error 12.82862\n",
      "Mean absolute error 2.66833\n",
      "Median absolute error 2.09462\n",
      "\n",
      "Train size 410\n",
      "Mean squared error 10.62899\n",
      "Mean absolute error 2.53128\n",
      "Median absolute error 1.98802\n",
      "Test size 136\n",
      "Mean squared error 18.63690\n",
      "Mean absolute error 3.31074\n",
      "Median absolute error 2.54739\n",
      "\n",
      "Train size 546\n",
      "Mean squared error 11.98781\n",
      "Mean absolute error 2.67876\n",
      "Median absolute error 2.03142\n",
      "Test size 136\n",
      "Mean squared error 13.79657\n",
      "Mean absolute error 2.68313\n",
      "Median absolute error 1.90922\n",
      "\n",
      "Train size 682\n",
      "Mean squared error 12.36259\n",
      "Mean absolute error 2.67504\n",
      "Median absolute error 2.04128\n",
      "Test size 136\n",
      "Mean squared error 22.17259\n",
      "Mean absolute error 3.78020\n",
      "Median absolute error 3.12535\n",
      "\n"
     ]
    },
    {
     "name": "stderr",
     "output_type": "stream",
     "text": [
      "/usr/lib/python3.7/site-packages/sklearn/linear_model/coordinate_descent.py:492: ConvergenceWarning: Objective did not converge. You might want to increase the number of iterations. Fitting data with very small alpha may cause precision problems.\n",
      "  ConvergenceWarning)\n"
     ]
    }
   ],
   "source": [
    "lasso = Lasso(alpha=5, tol=0.001)\n",
    "\n",
    "predict = predict_mix.predict_model_split(lasso, X, target_minT, cn.value, 5)\n",
    "for train, test in predict:\n",
    "    print(\"Train size {}\".format(train.shape[0]))\n",
    "    predict_mix.print_mean(train[[cn.value]], train[['prediction']])\n",
    "    print(\"Test size {}\".format(test.shape[0]))\n",
    "    predict_mix.print_mean(test[[cn.value]], test[['prediction']])\n",
    "    print()\n",
    "    # test.plot(style=\".\")"
   ]
  },
  {
   "cell_type": "code",
   "execution_count": 9,
   "metadata": {},
   "outputs": [
    {
     "name": "stderr",
     "output_type": "stream",
     "text": [
      "/home/cheri/Документы/Course-work/stepwise.py:34: FutureWarning: 'argmin' is deprecated, use 'idxmin' instead. The behavior of 'argmin'\n",
      "will be corrected to return the positional minimum in the future.\n",
      "Use 'series.values.argmin' to get the position of the minimum now.\n",
      "  best_feature = new_pval.argmin()\n"
     ]
    },
    {
     "name": "stdout",
     "output_type": "stream",
     "text": [
      "Add  avg td2                        with p-value 0.0\n",
      "Add  avg rh2                        with p-value 3.65094e-23\n",
      "Add  avg dudy500                    with p-value 1.72192e-12\n",
      "Add  avg v850                       with p-value 1.11523e-07\n",
      "Add  avg u500                       with p-value 7.62448e-09\n",
      "Add  avg v10                        with p-value 4.26742e-09\n",
      "Add  avg advT2                      with p-value 4.3426e-06\n",
      "Add  avg lfc                        with p-value 3.42287e-05\n",
      "Drop avg v850                       with p-value 0.0795595\n"
     ]
    },
    {
     "name": "stderr",
     "output_type": "stream",
     "text": [
      "/home/cheri/Документы/Course-work/stepwise.py:47: FutureWarning: 'argmax' is deprecated, use 'idxmax' instead. The behavior of 'argmax'\n",
      "will be corrected to return the positional maximum in the future.\n",
      "Use 'series.values.argmax' to get the position of the maximum now.\n",
      "  worst_feature = pvalues.argmax()\n"
     ]
    },
    {
     "data": {
      "text/html": [
       "<div>\n",
       "<style scoped>\n",
       "    .dataframe tbody tr th:only-of-type {\n",
       "        vertical-align: middle;\n",
       "    }\n",
       "\n",
       "    .dataframe tbody tr th {\n",
       "        vertical-align: top;\n",
       "    }\n",
       "\n",
       "    .dataframe thead th {\n",
       "        text-align: right;\n",
       "    }\n",
       "</style>\n",
       "<table border=\"1\" class=\"dataframe\">\n",
       "  <thead>\n",
       "    <tr style=\"text-align: right;\">\n",
       "      <th></th>\n",
       "      <th>avg td2</th>\n",
       "      <th>avg rh2</th>\n",
       "      <th>avg dudy500</th>\n",
       "      <th>avg u500</th>\n",
       "      <th>avg v10</th>\n",
       "      <th>avg advT2</th>\n",
       "      <th>avg lfc</th>\n",
       "    </tr>\n",
       "  </thead>\n",
       "  <tbody>\n",
       "    <tr>\n",
       "      <th>2013-01-03</th>\n",
       "      <td>-34.60150</td>\n",
       "      <td>56.20200</td>\n",
       "      <td>0.000002</td>\n",
       "      <td>-2.346295</td>\n",
       "      <td>-3.449845</td>\n",
       "      <td>-0.000594</td>\n",
       "      <td>17058.80</td>\n",
       "    </tr>\n",
       "    <tr>\n",
       "      <th>2013-01-04</th>\n",
       "      <td>-32.32505</td>\n",
       "      <td>57.46880</td>\n",
       "      <td>-0.000007</td>\n",
       "      <td>-2.604466</td>\n",
       "      <td>-2.995815</td>\n",
       "      <td>-0.000611</td>\n",
       "      <td>17146.10</td>\n",
       "    </tr>\n",
       "    <tr>\n",
       "      <th>2013-01-05</th>\n",
       "      <td>-35.31215</td>\n",
       "      <td>57.06995</td>\n",
       "      <td>0.000006</td>\n",
       "      <td>-7.251150</td>\n",
       "      <td>-4.029150</td>\n",
       "      <td>-0.000278</td>\n",
       "      <td>17178.30</td>\n",
       "    </tr>\n",
       "    <tr>\n",
       "      <th>2013-01-06</th>\n",
       "      <td>-37.15400</td>\n",
       "      <td>56.45440</td>\n",
       "      <td>-0.000042</td>\n",
       "      <td>-6.219925</td>\n",
       "      <td>-4.046630</td>\n",
       "      <td>-0.000392</td>\n",
       "      <td>17171.85</td>\n",
       "    </tr>\n",
       "    <tr>\n",
       "      <th>2013-01-08</th>\n",
       "      <td>-35.51220</td>\n",
       "      <td>60.43055</td>\n",
       "      <td>-0.000015</td>\n",
       "      <td>-4.109860</td>\n",
       "      <td>-3.679260</td>\n",
       "      <td>-0.000464</td>\n",
       "      <td>17182.00</td>\n",
       "    </tr>\n",
       "  </tbody>\n",
       "</table>\n",
       "</div>"
      ],
      "text/plain": [
       "             avg td2   avg rh2  avg dudy500  avg u500   avg v10  avg advT2  \\\n",
       "2013-01-03 -34.60150  56.20200     0.000002 -2.346295 -3.449845  -0.000594   \n",
       "2013-01-04 -32.32505  57.46880    -0.000007 -2.604466 -2.995815  -0.000611   \n",
       "2013-01-05 -35.31215  57.06995     0.000006 -7.251150 -4.029150  -0.000278   \n",
       "2013-01-06 -37.15400  56.45440    -0.000042 -6.219925 -4.046630  -0.000392   \n",
       "2013-01-08 -35.51220  60.43055    -0.000015 -4.109860 -3.679260  -0.000464   \n",
       "\n",
       "             avg lfc  \n",
       "2013-01-03  17058.80  \n",
       "2013-01-04  17146.10  \n",
       "2013-01-05  17178.30  \n",
       "2013-01-06  17171.85  \n",
       "2013-01-08  17182.00  "
      ]
     },
     "execution_count": 9,
     "metadata": {},
     "output_type": "execute_result"
    }
   ],
   "source": [
    "from sklearn.feature_selection import SelectFromModel\n",
    "from sklearn.linear_model import LinearRegression, Lasso\n",
    "from stepwise import stepwise_selection\n",
    "\n",
    "selectColumns = stepwise_selection(X, target_minT)\n",
    "X_select = X.loc[:, selectColumns]\n",
    "\n",
    "X_select.head()"
   ]
  },
  {
   "cell_type": "code",
   "execution_count": 10,
   "metadata": {},
   "outputs": [
    {
     "name": "stdout",
     "output_type": "stream",
     "text": [
      "Train size 138\n",
      "Mean squared error 7.73377\n",
      "Mean absolute error 2.13116\n",
      "Median absolute error 1.68869\n",
      "Test size 136\n",
      "Mean squared error 16.29366\n",
      "Mean absolute error 3.28792\n",
      "Median absolute error 2.94934\n",
      "\n",
      "Train size 274\n",
      "Mean squared error 8.64822\n",
      "Mean absolute error 2.29851\n",
      "Median absolute error 1.83068\n",
      "Test size 136\n",
      "Mean squared error 8.36729\n",
      "Mean absolute error 2.28118\n",
      "Median absolute error 1.87624\n",
      "\n",
      "Train size 410\n",
      "Mean squared error 8.41540\n",
      "Mean absolute error 2.25507\n",
      "Median absolute error 1.73970\n",
      "Test size 136\n",
      "Mean squared error 16.54398\n",
      "Mean absolute error 3.05361\n",
      "Median absolute error 2.42193\n",
      "\n",
      "Train size 546\n",
      "Mean squared error 9.81954\n",
      "Mean absolute error 2.41402\n",
      "Median absolute error 1.91175\n",
      "Test size 136\n",
      "Mean squared error 12.33867\n",
      "Mean absolute error 2.66652\n",
      "Median absolute error 2.06319\n",
      "\n",
      "Train size 682\n",
      "Mean squared error 10.30514\n",
      "Mean absolute error 2.46048\n",
      "Median absolute error 1.93369\n",
      "Test size 136\n",
      "Mean squared error 15.30420\n",
      "Mean absolute error 3.07858\n",
      "Median absolute error 2.35654\n",
      "\n"
     ]
    }
   ],
   "source": [
    "predict = predict_mix.predict_model_split(LinearRegression(), X_select, target_minT, cn.value, 5)\n",
    "for train, test in predict:\n",
    "    print(\"Train size {}\".format(train.shape[0]))\n",
    "    predict_mix.print_mean(train[[cn.value]], train[['prediction']])\n",
    "    print(\"Test size {}\".format(test.shape[0]))\n",
    "    predict_mix.print_mean(test[[cn.value]], test[['prediction']])\n",
    "    print()\n",
    "    \n",
    "# 16.3 8.4 16.5 12.3 15.3  "
   ]
  }
 ],
 "metadata": {
  "kernelspec": {
   "display_name": "Python 3",
   "language": "python",
   "name": "python3"
  },
  "language_info": {
   "codemirror_mode": {
    "name": "ipython",
    "version": 3
   },
   "file_extension": ".py",
   "mimetype": "text/x-python",
   "name": "python",
   "nbconvert_exporter": "python",
   "pygments_lexer": "ipython3",
   "version": "3.7.3"
  }
 },
 "nbformat": 4,
 "nbformat_minor": 2
}
