{
 "cells": [
  {
   "cell_type": "code",
   "execution_count": 74,
   "metadata": {},
   "outputs": [
    {
     "name": "stdout",
     "output_type": "stream",
     "text": [
      "(1810, 54)\n"
     ]
    }
   ],
   "source": [
    "import numpy as np\n",
    "import pandas as pd\n",
    "import scipy.sparse\n",
    "import xgboost as xgb\n",
    "import mix_pandas as mix\n",
    "import predict as predict_mix\n",
    "import db_column_name as db\n",
    "\n",
    "%matplotlib inline\n",
    "import matplotlib.pyplot as plt\n",
    "%config InlineBackend.figure_format = 'svg'\n",
    "\n",
    "from pylab import rcParams\n",
    "rcParams['figure.figsize'] = 10, 7\n",
    "\n",
    "\n",
    "cn = db.ColumnName()\n",
    "\n",
    "target_minT = pd.read_csv('./data/31286_103.csv')\n",
    "mix.set_index_date(target_minT, cn.date)\n",
    "\n",
    "X = pd.read_csv('./data/character_31286.csv')\n",
    "mix.set_index_date(X, cn.date)\n",
    "\n",
    "X = X.drop([cn.point], axis=1)\n",
    "X = X[[x for x in X.columns if 'avg' in x or \n",
    "       x == cn.offset]]\n",
    "    \n",
    "X = mix.mean_day(X)\n",
    "target_minT.index = target_minT.index.round('D')\n",
    "\n",
    "X = X.drop([cn.offset], axis=1)\n",
    "\n",
    "target_minT = target_minT.reindex(X.index)\n",
    "target_minT = mix.clean(target_minT)\n",
    "X = X.reindex(target_minT.index)\n",
    "X = mix.clean(X)\n",
    "\n",
    "print(X.shape)"
   ]
  },
  {
   "cell_type": "code",
   "execution_count": 75,
   "metadata": {},
   "outputs": [
    {
     "name": "stdout",
     "output_type": "stream",
     "text": [
      "Train size 305\n",
      "Mean squared error 11.31282\n",
      "Mean absolute error 2.38519\n",
      "Median absolute error 1.82815\n",
      "Test size 301\n",
      "Mean squared error 155514053310.51224\n",
      "Mean absolute error 22733.47630\n",
      "Median absolute error 2.42907\n",
      "\n",
      "Train size 606\n",
      "Mean squared error 12.94494\n",
      "Mean absolute error 2.61230\n",
      "Median absolute error 2.08921\n",
      "Test size 301\n",
      "Mean squared error 15.06739\n",
      "Mean absolute error 3.02352\n",
      "Median absolute error 2.46595\n",
      "\n",
      "Train size 907\n",
      "Mean squared error 13.18064\n",
      "Mean absolute error 2.67868\n",
      "Median absolute error 2.02059\n",
      "Test size 301\n",
      "Mean squared error 231.57739\n",
      "Mean absolute error 11.19373\n",
      "Median absolute error 7.32078\n",
      "\n",
      "Train size 1208\n",
      "Mean squared error 26.63799\n",
      "Mean absolute error 3.85389\n",
      "Median absolute error 3.05554\n",
      "Test size 301\n",
      "Mean squared error 726.64255\n",
      "Mean absolute error 21.17420\n",
      "Median absolute error 17.42243\n",
      "\n",
      "Train size 1509\n",
      "Mean squared error 49.57631\n",
      "Mean absolute error 5.86920\n",
      "Median absolute error 5.42753\n",
      "Test size 301\n",
      "Mean squared error 103.78405\n",
      "Mean absolute error 8.23679\n",
      "Median absolute error 7.21395\n",
      "\n"
     ]
    }
   ],
   "source": [
    "from sklearn.linear_model import LinearRegression, Lasso, RidgeCV\n",
    "\n",
    "predict = predict_mix.predict_model_split(LinearRegression(), X, target_minT, cn.value, 5)\n",
    "for train, test in predict:\n",
    "    print(\"Train size {}\".format(train.shape[0]))\n",
    "    predict_mix.print_mean(train[[cn.value]], train[['prediction']])\n",
    "    print(\"Test size {}\".format(test.shape[0]))\n",
    "    predict_mix.print_mean(test[[cn.value]], test[['prediction']])\n",
    "    print()\n",
    "    # test.plot(ylim=(-40, 40))"
   ]
  },
  {
   "cell_type": "code",
   "execution_count": 76,
   "metadata": {},
   "outputs": [],
   "source": [
    "target_w = mix.winsorized(target_minT, cn.value, [0.1, 0.80])\n",
    "X_w = X.reindex(target_w.index)"
   ]
  },
  {
   "cell_type": "code",
   "execution_count": 77,
   "metadata": {},
   "outputs": [
    {
     "name": "stdout",
     "output_type": "stream",
     "text": [
      "Train size 229\n",
      "Mean squared error 6.68808\n",
      "Mean absolute error 2.07201\n",
      "Median absolute error 1.68865\n",
      "Test size 228\n",
      "Mean squared error 15.29686\n",
      "Mean absolute error 2.94277\n",
      "Median absolute error 2.34924\n",
      "\n",
      "Train size 457\n",
      "Mean squared error 7.98147\n",
      "Mean absolute error 2.19949\n",
      "Median absolute error 1.79882\n",
      "Test size 228\n",
      "Mean squared error 13.03147\n",
      "Mean absolute error 2.77998\n",
      "Median absolute error 2.21132\n",
      "\n",
      "Train size 685\n",
      "Mean squared error 8.98231\n",
      "Mean absolute error 2.30481\n",
      "Median absolute error 1.83383\n",
      "Test size 228\n",
      "Mean squared error 1106953492697747.62500\n",
      "Mean absolute error 24708827.95920\n",
      "Median absolute error 44889322.43828\n",
      "\n",
      "Train size 913\n",
      "Mean squared error 20.78643\n",
      "Mean absolute error 3.49343\n",
      "Median absolute error 2.80129\n",
      "Test size 228\n",
      "Mean squared error 783.99248\n",
      "Mean absolute error 22.11890\n",
      "Median absolute error 18.64271\n",
      "\n",
      "Train size 1141\n",
      "Mean squared error 44.93565\n",
      "Mean absolute error 5.68704\n",
      "Median absolute error 5.41280\n",
      "Test size 228\n",
      "Mean squared error 115.76448\n",
      "Mean absolute error 8.74983\n",
      "Median absolute error 7.81824\n",
      "\n"
     ]
    }
   ],
   "source": [
    "predict = predict_mix.predict_model_split(LinearRegression(), X_w, target_w, cn.value, 5)\n",
    "for train, test in predict:\n",
    "    print(\"Train size {}\".format(train.shape[0]))\n",
    "    predict_mix.print_mean(train[[cn.value]], train[['prediction']])\n",
    "    print(\"Test size {}\".format(test.shape[0]))\n",
    "    predict_mix.print_mean(test[[cn.value]], test[['prediction']])\n",
    "    print()\n",
    "    # test.plot(style=\".\")"
   ]
  },
  {
   "cell_type": "code",
   "execution_count": 78,
   "metadata": {},
   "outputs": [
    {
     "name": "stderr",
     "output_type": "stream",
     "text": [
      "c:\\users\\home1\\appdata\\local\\programs\\python\\python35\\lib\\site-packages\\sklearn\\linear_model\\coordinate_descent.py:492: ConvergenceWarning: Objective did not converge. You might want to increase the number of iterations. Fitting data with very small alpha may cause precision problems.\n",
      "  ConvergenceWarning)\n",
      "c:\\users\\home1\\appdata\\local\\programs\\python\\python35\\lib\\site-packages\\sklearn\\linear_model\\coordinate_descent.py:492: ConvergenceWarning: Objective did not converge. You might want to increase the number of iterations. Fitting data with very small alpha may cause precision problems.\n",
      "  ConvergenceWarning)\n",
      "c:\\users\\home1\\appdata\\local\\programs\\python\\python35\\lib\\site-packages\\sklearn\\linear_model\\coordinate_descent.py:492: ConvergenceWarning: Objective did not converge. You might want to increase the number of iterations. Fitting data with very small alpha may cause precision problems.\n",
      "  ConvergenceWarning)\n",
      "c:\\users\\home1\\appdata\\local\\programs\\python\\python35\\lib\\site-packages\\sklearn\\linear_model\\coordinate_descent.py:492: ConvergenceWarning: Objective did not converge. You might want to increase the number of iterations. Fitting data with very small alpha may cause precision problems.\n",
      "  ConvergenceWarning)\n"
     ]
    },
    {
     "name": "stdout",
     "output_type": "stream",
     "text": [
      "Train size 229\n",
      "Mean squared error 10.93105\n",
      "Mean absolute error 2.61451\n",
      "Median absolute error 2.11203\n",
      "Test size 228\n",
      "Mean squared error 14.66785\n",
      "Mean absolute error 2.94960\n",
      "Median absolute error 2.39150\n",
      "\n",
      "Train size 457\n",
      "Mean squared error 11.53566\n",
      "Mean absolute error 2.64032\n",
      "Median absolute error 2.05755\n",
      "Test size 228\n",
      "Mean squared error 15.43740\n",
      "Mean absolute error 2.96453\n",
      "Median absolute error 2.35639\n",
      "\n",
      "Train size 685\n",
      "Mean squared error 12.53574\n",
      "Mean absolute error 2.72179\n",
      "Median absolute error 2.11641\n",
      "Test size 228\n",
      "Mean squared error 4434.41929\n",
      "Mean absolute error 50.01550\n",
      "Median absolute error 64.66043\n",
      "\n",
      "Train size 913\n",
      "Mean squared error 27.15005\n",
      "Mean absolute error 3.98680\n",
      "Median absolute error 3.23429\n",
      "Test size 228\n",
      "Mean squared error 622.77507\n",
      "Mean absolute error 20.64348\n",
      "Median absolute error 19.74771\n",
      "\n",
      "Train size 1141\n",
      "Mean squared error 50.56670\n",
      "Mean absolute error 6.09361\n",
      "Median absolute error 5.88121\n",
      "Test size 228\n",
      "Mean squared error 48.20229\n",
      "Mean absolute error 5.66554\n",
      "Median absolute error 5.30669\n",
      "\n"
     ]
    },
    {
     "name": "stderr",
     "output_type": "stream",
     "text": [
      "c:\\users\\home1\\appdata\\local\\programs\\python\\python35\\lib\\site-packages\\sklearn\\linear_model\\coordinate_descent.py:492: ConvergenceWarning: Objective did not converge. You might want to increase the number of iterations. Fitting data with very small alpha may cause precision problems.\n",
      "  ConvergenceWarning)\n"
     ]
    }
   ],
   "source": [
    "lasso = Lasso(alpha=5, tol=0.001)\n",
    "\n",
    "predict = predict_mix.predict_model_split(lasso, X_w, target_w, cn.value, 5)\n",
    "for train, test in predict:\n",
    "    print(\"Train size {}\".format(train.shape[0]))\n",
    "    predict_mix.print_mean(train[[cn.value]], train[['prediction']])\n",
    "    print(\"Test size {}\".format(test.shape[0]))\n",
    "    predict_mix.print_mean(test[[cn.value]], test[['prediction']])\n",
    "    print()\n",
    "    # test.plot(style=\".\")"
   ]
  }
 ],
 "metadata": {
  "kernelspec": {
   "display_name": "Python 3",
   "language": "python",
   "name": "python3"
  },
  "language_info": {
   "codemirror_mode": {
    "name": "ipython",
    "version": 3
   },
   "file_extension": ".py",
   "mimetype": "text/x-python",
   "name": "python",
   "nbconvert_exporter": "python",
   "pygments_lexer": "ipython3",
   "version": "3.5.0"
  }
 },
 "nbformat": 4,
 "nbformat_minor": 2
}
