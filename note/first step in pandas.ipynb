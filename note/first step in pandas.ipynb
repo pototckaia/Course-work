{
 "cells": [
  {
   "cell_type": "code",
   "execution_count": 3,
   "metadata": {
    "scrolled": true
   },
   "outputs": [
    {
     "data": {
      "text/html": [
       "<div>\n",
       "<style scoped>\n",
       "    .dataframe tbody tr th:only-of-type {\n",
       "        vertical-align: middle;\n",
       "    }\n",
       "\n",
       "    .dataframe tbody tr th {\n",
       "        vertical-align: top;\n",
       "    }\n",
       "\n",
       "    .dataframe thead th {\n",
       "        text-align: right;\n",
       "    }\n",
       "</style>\n",
       "<table border=\"1\" class=\"dataframe\">\n",
       "  <thead>\n",
       "    <tr style=\"text-align: right;\">\n",
       "      <th></th>\n",
       "      <th>actual_date</th>\n",
       "      <th>value</th>\n",
       "    </tr>\n",
       "  </thead>\n",
       "  <tbody>\n",
       "    <tr>\n",
       "      <th>0</th>\n",
       "      <td>2014-07-27 21:00:00</td>\n",
       "      <td>9.8</td>\n",
       "    </tr>\n",
       "    <tr>\n",
       "      <th>1</th>\n",
       "      <td>2014-09-26 21:00:00</td>\n",
       "      <td>-0.2</td>\n",
       "    </tr>\n",
       "    <tr>\n",
       "      <th>2</th>\n",
       "      <td>2014-07-28 21:00:00</td>\n",
       "      <td>9.2</td>\n",
       "    </tr>\n",
       "    <tr>\n",
       "      <th>3</th>\n",
       "      <td>2014-09-27 21:00:00</td>\n",
       "      <td>-0.4</td>\n",
       "    </tr>\n",
       "    <tr>\n",
       "      <th>4</th>\n",
       "      <td>2014-11-22 21:00:00</td>\n",
       "      <td>-21.8</td>\n",
       "    </tr>\n",
       "  </tbody>\n",
       "</table>\n",
       "</div>"
      ],
      "text/plain": [
       "           actual_date  value\n",
       "0  2014-07-27 21:00:00    9.8\n",
       "1  2014-09-26 21:00:00   -0.2\n",
       "2  2014-07-28 21:00:00    9.2\n",
       "3  2014-09-27 21:00:00   -0.4\n",
       "4  2014-11-22 21:00:00  -21.8"
      ]
     },
     "execution_count": 3,
     "metadata": {},
     "output_type": "execute_result"
    }
   ],
   "source": [
    "import numpy as np\n",
    "import pandas as pd\n",
    "\n",
    "pd.set_option('precision', 10)\n",
    "\n",
    "df = pd.read_csv('./date/31088_103.csv')\n",
    "df.head()"
   ]
  },
  {
   "cell_type": "code",
   "execution_count": 4,
   "metadata": {},
   "outputs": [
    {
     "name": "stdout",
     "output_type": "stream",
     "text": [
      "(1897, 2)\n"
     ]
    }
   ],
   "source": [
    "print(df.shape)"
   ]
  },
  {
   "cell_type": "code",
   "execution_count": 5,
   "metadata": {},
   "outputs": [
    {
     "name": "stdout",
     "output_type": "stream",
     "text": [
      "Index(['actual_date', 'value'], dtype='object')\n"
     ]
    }
   ],
   "source": [
    "print(df.columns)"
   ]
  },
  {
   "cell_type": "code",
   "execution_count": 6,
   "metadata": {},
   "outputs": [
    {
     "name": "stdout",
     "output_type": "stream",
     "text": [
      "<class 'pandas.core.frame.DataFrame'>\n",
      "RangeIndex: 1897 entries, 0 to 1896\n",
      "Data columns (total 2 columns):\n",
      "actual_date    1897 non-null object\n",
      "value          1897 non-null float64\n",
      "dtypes: float64(1), object(1)\n",
      "memory usage: 29.7+ KB\n",
      "None\n"
     ]
    }
   ],
   "source": [
    "print(df.info())"
   ]
  },
  {
   "cell_type": "code",
   "execution_count": 7,
   "metadata": {},
   "outputs": [
    {
     "data": {
      "text/html": [
       "<div>\n",
       "<style scoped>\n",
       "    .dataframe tbody tr th:only-of-type {\n",
       "        vertical-align: middle;\n",
       "    }\n",
       "\n",
       "    .dataframe tbody tr th {\n",
       "        vertical-align: top;\n",
       "    }\n",
       "\n",
       "    .dataframe thead th {\n",
       "        text-align: right;\n",
       "    }\n",
       "</style>\n",
       "<table border=\"1\" class=\"dataframe\">\n",
       "  <thead>\n",
       "    <tr style=\"text-align: right;\">\n",
       "      <th></th>\n",
       "      <th>value</th>\n",
       "    </tr>\n",
       "  </thead>\n",
       "  <tbody>\n",
       "    <tr>\n",
       "      <th>count</th>\n",
       "      <td>1897.0000000000</td>\n",
       "    </tr>\n",
       "    <tr>\n",
       "      <th>mean</th>\n",
       "      <td>-6.4767527675</td>\n",
       "    </tr>\n",
       "    <tr>\n",
       "      <th>std</th>\n",
       "      <td>12.9400896539</td>\n",
       "    </tr>\n",
       "    <tr>\n",
       "      <th>min</th>\n",
       "      <td>-34.3000000000</td>\n",
       "    </tr>\n",
       "    <tr>\n",
       "      <th>25%</th>\n",
       "      <td>-17.8000000000</td>\n",
       "    </tr>\n",
       "    <tr>\n",
       "      <th>50%</th>\n",
       "      <td>-5.5000000000</td>\n",
       "    </tr>\n",
       "    <tr>\n",
       "      <th>75%</th>\n",
       "      <td>5.2000000000</td>\n",
       "    </tr>\n",
       "    <tr>\n",
       "      <th>max</th>\n",
       "      <td>15.5000000000</td>\n",
       "    </tr>\n",
       "  </tbody>\n",
       "</table>\n",
       "</div>"
      ],
      "text/plain": [
       "                 value\n",
       "count  1897.0000000000\n",
       "mean     -6.4767527675\n",
       "std      12.9400896539\n",
       "min     -34.3000000000\n",
       "25%     -17.8000000000\n",
       "50%      -5.5000000000\n",
       "75%       5.2000000000\n",
       "max      15.5000000000"
      ]
     },
     "execution_count": 7,
     "metadata": {},
     "output_type": "execute_result"
    }
   ],
   "source": [
    "# df[] = df[].astype('int64')\n",
    "df.describe() # include=['dd']"
   ]
  },
  {
   "cell_type": "code",
   "execution_count": 9,
   "metadata": {},
   "outputs": [
    {
     "data": {
      "text/html": [
       "<div>\n",
       "<style scoped>\n",
       "    .dataframe tbody tr th:only-of-type {\n",
       "        vertical-align: middle;\n",
       "    }\n",
       "\n",
       "    .dataframe tbody tr th {\n",
       "        vertical-align: top;\n",
       "    }\n",
       "\n",
       "    .dataframe thead th {\n",
       "        text-align: right;\n",
       "    }\n",
       "</style>\n",
       "<table border=\"1\" class=\"dataframe\">\n",
       "  <thead>\n",
       "    <tr style=\"text-align: right;\">\n",
       "      <th></th>\n",
       "      <th>actual_date</th>\n",
       "      <th>value</th>\n",
       "    </tr>\n",
       "  </thead>\n",
       "  <tbody>\n",
       "    <tr>\n",
       "      <th>1594</th>\n",
       "      <td>2017-08-12 21:00:00</td>\n",
       "      <td>15.5</td>\n",
       "    </tr>\n",
       "    <tr>\n",
       "      <th>1672</th>\n",
       "      <td>2017-07-17 21:00:00</td>\n",
       "      <td>15.5</td>\n",
       "    </tr>\n",
       "    <tr>\n",
       "      <th>1579</th>\n",
       "      <td>2017-08-11 21:00:00</td>\n",
       "      <td>15.1</td>\n",
       "    </tr>\n",
       "    <tr>\n",
       "      <th>1688</th>\n",
       "      <td>2017-07-18 21:00:00</td>\n",
       "      <td>14.9</td>\n",
       "    </tr>\n",
       "    <tr>\n",
       "      <th>917</th>\n",
       "      <td>2015-08-21 21:00:00</td>\n",
       "      <td>14.8</td>\n",
       "    </tr>\n",
       "  </tbody>\n",
       "</table>\n",
       "</div>"
      ],
      "text/plain": [
       "              actual_date  value\n",
       "1594  2017-08-12 21:00:00   15.5\n",
       "1672  2017-07-17 21:00:00   15.5\n",
       "1579  2017-08-11 21:00:00   15.1\n",
       "1688  2017-07-18 21:00:00   14.9\n",
       "917   2015-08-21 21:00:00   14.8"
      ]
     },
     "execution_count": 9,
     "metadata": {},
     "output_type": "execute_result"
    }
   ],
   "source": [
    "# для object or bool -> value_counts(normalize=True)\n",
    "\n",
    "df.sort_values(by=\"value\", ascending=False).head()"
   ]
  },
  {
   "cell_type": "code",
   "execution_count": 10,
   "metadata": {},
   "outputs": [
    {
     "data": {
      "text/plain": [
       "-6.4767527675276755"
      ]
     },
     "execution_count": 10,
     "metadata": {},
     "output_type": "execute_result"
    }
   ],
   "source": [
    "df['value'].mean()"
   ]
  },
  {
   "cell_type": "code",
   "execution_count": 11,
   "metadata": {},
   "outputs": [
    {
     "data": {
      "text/plain": [
       "value    7.6853623188\n",
       "dtype: float64"
      ]
     },
     "execution_count": 11,
     "metadata": {},
     "output_type": "execute_result"
    }
   ],
   "source": [
    "df[df['value'] > 0].mean()"
   ]
  },
  {
   "cell_type": "code",
   "execution_count": 17,
   "metadata": {},
   "outputs": [],
   "source": [
    "df['actual_date'] = df['actual_date'].astype('datetime64[ns]')"
   ]
  },
  {
   "cell_type": "code",
   "execution_count": 21,
   "metadata": {},
   "outputs": [
    {
     "data": {
      "text/plain": [
       "Timestamp('2018-05-19 21:00:00')"
      ]
     },
     "execution_count": 21,
     "metadata": {},
     "output_type": "execute_result"
    }
   ],
   "source": [
    "df[df['value'] < 0]['actual_date'].max()"
   ]
  },
  {
   "cell_type": "code",
   "execution_count": 24,
   "metadata": {},
   "outputs": [
    {
     "data": {
      "text/html": [
       "<div>\n",
       "<style scoped>\n",
       "    .dataframe tbody tr th:only-of-type {\n",
       "        vertical-align: middle;\n",
       "    }\n",
       "\n",
       "    .dataframe tbody tr th {\n",
       "        vertical-align: top;\n",
       "    }\n",
       "\n",
       "    .dataframe thead th {\n",
       "        text-align: right;\n",
       "    }\n",
       "</style>\n",
       "<table border=\"1\" class=\"dataframe\">\n",
       "  <thead>\n",
       "    <tr style=\"text-align: right;\">\n",
       "      <th></th>\n",
       "      <th>actual_date</th>\n",
       "      <th>value</th>\n",
       "    </tr>\n",
       "  </thead>\n",
       "  <tbody>\n",
       "    <tr>\n",
       "      <th>0</th>\n",
       "      <td>2014-07-27 21:00:00</td>\n",
       "      <td>9.8</td>\n",
       "    </tr>\n",
       "    <tr>\n",
       "      <th>1</th>\n",
       "      <td>2014-09-26 21:00:00</td>\n",
       "      <td>-0.2</td>\n",
       "    </tr>\n",
       "    <tr>\n",
       "      <th>2</th>\n",
       "      <td>2014-07-28 21:00:00</td>\n",
       "      <td>9.2</td>\n",
       "    </tr>\n",
       "    <tr>\n",
       "      <th>3</th>\n",
       "      <td>2014-09-27 21:00:00</td>\n",
       "      <td>-0.4</td>\n",
       "    </tr>\n",
       "    <tr>\n",
       "      <th>4</th>\n",
       "      <td>2014-11-22 21:00:00</td>\n",
       "      <td>-21.8</td>\n",
       "    </tr>\n",
       "    <tr>\n",
       "      <th>5</th>\n",
       "      <td>2014-07-29 21:00:00</td>\n",
       "      <td>10.6</td>\n",
       "    </tr>\n",
       "  </tbody>\n",
       "</table>\n",
       "</div>"
      ],
      "text/plain": [
       "          actual_date  value\n",
       "0 2014-07-27 21:00:00    9.8\n",
       "1 2014-09-26 21:00:00   -0.2\n",
       "2 2014-07-28 21:00:00    9.2\n",
       "3 2014-09-27 21:00:00   -0.4\n",
       "4 2014-11-22 21:00:00  -21.8\n",
       "5 2014-07-29 21:00:00   10.6"
      ]
     },
     "execution_count": 24,
     "metadata": {},
     "output_type": "execute_result"
    }
   ],
   "source": [
    "# loc -> name\n",
    "# iloc -> number\n",
    "\n",
    "df.loc[0:5, 'actual_date':'value']\n",
    "df.iloc[0:6, 0:2]"
   ]
  },
  {
   "cell_type": "code",
   "execution_count": 25,
   "metadata": {},
   "outputs": [
    {
     "data": {
      "text/html": [
       "<div>\n",
       "<style scoped>\n",
       "    .dataframe tbody tr th:only-of-type {\n",
       "        vertical-align: middle;\n",
       "    }\n",
       "\n",
       "    .dataframe tbody tr th {\n",
       "        vertical-align: top;\n",
       "    }\n",
       "\n",
       "    .dataframe thead th {\n",
       "        text-align: right;\n",
       "    }\n",
       "</style>\n",
       "<table border=\"1\" class=\"dataframe\">\n",
       "  <thead>\n",
       "    <tr style=\"text-align: right;\">\n",
       "      <th></th>\n",
       "      <th>actual_date</th>\n",
       "      <th>value</th>\n",
       "    </tr>\n",
       "  </thead>\n",
       "  <tbody>\n",
       "    <tr>\n",
       "      <th>1896</th>\n",
       "      <td>2017-12-31 21:00:00</td>\n",
       "      <td>-16.3</td>\n",
       "    </tr>\n",
       "  </tbody>\n",
       "</table>\n",
       "</div>"
      ],
      "text/plain": [
       "             actual_date  value\n",
       "1896 2017-12-31 21:00:00  -16.3"
      ]
     },
     "execution_count": 25,
     "metadata": {},
     "output_type": "execute_result"
    }
   ],
   "source": [
    "df[-1:]"
   ]
  },
  {
   "cell_type": "code",
   "execution_count": 27,
   "metadata": {},
   "outputs": [
    {
     "data": {
      "text/plain": [
       "point_id                     31088\n",
       "actual_date    2018-06-07 21:00:00\n",
       "offset_h                        69\n",
       "min td500                 -7.73886\n",
       "max td500                 -5.77767\n",
       "avg td500                 -10.3511\n",
       "min rh925                      100\n",
       "max rh925                      100\n",
       "avg rh925                      300\n",
       "min v10                    10.8925\n",
       "max v10                    16.6541\n",
       "avg v10                    38.8087\n",
       "min wdir850                355.273\n",
       "max wdir850                359.997\n",
       "avg wdir850                1068.26\n",
       "min snownc                  62.108\n",
       "max snownc                 62.2924\n",
       "avg snownc                 110.493\n",
       "min defV500            0.000160947\n",
       "max defV500            0.000451269\n",
       "avg defV500            0.000660188\n",
       "min t2                     16.5182\n",
       "max t2                     19.1837\n",
       "avg t2                     49.8442\n",
       "min u850                    14.907\n",
       "max u850                   22.0047\n",
       "avg u850                   48.3348\n",
       "min wdir10                 354.821\n",
       "max wdir10                 359.951\n",
       "avg wdir10                 1057.05\n",
       "                      ...         \n",
       "min t850                    18.546\n",
       "max t850                   20.5728\n",
       "avg t850                   55.5786\n",
       "min wspd850                33.3156\n",
       "max wspd850                45.5823\n",
       "avg wspd850                100.952\n",
       "min w850                  0.126858\n",
       "max w850                  0.563103\n",
       "avg w850                  0.481619\n",
       "min dudy500            9.70451e-05\n",
       "max dudy500            0.000282227\n",
       "avg dudy500            0.000319941\n",
       "min u500                   32.0586\n",
       "max u500                   46.0237\n",
       "avg u500                   108.652\n",
       "min rot500             0.000180561\n",
       "max rot500             0.000484351\n",
       "avg rot500             0.000592065\n",
       "min slptend                -999999\n",
       "max slptend                -999999\n",
       "avg slptend                -500000\n",
       "min td850                  12.7153\n",
       "max td850                  14.7414\n",
       "avg td850                  37.5749\n",
       "min advRh2              0.00107587\n",
       "max advRh2              0.00583227\n",
       "avg advRh2              0.00378913\n",
       "min tdd500                 32.9453\n",
       "max tdd500                 47.9985\n",
       "avg tdd500                 106.836\n",
       "Length: 165, dtype: object"
      ]
     },
     "execution_count": 27,
     "metadata": {},
     "output_type": "execute_result"
    }
   ],
   "source": [
    "df = pd.read_csv('./date/character_31088.csv')\n",
    "\n",
    "df.apply(np.max)"
   ]
  },
  {
   "cell_type": "code",
   "execution_count": 40,
   "metadata": {},
   "outputs": [
    {
     "data": {
      "text/html": [
       "<div>\n",
       "<style scoped>\n",
       "    .dataframe tbody tr th:only-of-type {\n",
       "        vertical-align: middle;\n",
       "    }\n",
       "\n",
       "    .dataframe tbody tr th {\n",
       "        vertical-align: top;\n",
       "    }\n",
       "\n",
       "    .dataframe thead th {\n",
       "        text-align: right;\n",
       "    }\n",
       "</style>\n",
       "<table border=\"1\" class=\"dataframe\">\n",
       "  <thead>\n",
       "    <tr style=\"text-align: right;\">\n",
       "      <th></th>\n",
       "      <th>point_id</th>\n",
       "      <th>actual_date</th>\n",
       "      <th>offset_h</th>\n",
       "      <th>min td500</th>\n",
       "      <th>max td500</th>\n",
       "      <th>avg td500</th>\n",
       "      <th>min rh925</th>\n",
       "      <th>max rh925</th>\n",
       "      <th>avg rh925</th>\n",
       "      <th>min v10</th>\n",
       "      <th>...</th>\n",
       "      <th>avg slptend</th>\n",
       "      <th>min td850</th>\n",
       "      <th>max td850</th>\n",
       "      <th>avg td850</th>\n",
       "      <th>min advRh2</th>\n",
       "      <th>max advRh2</th>\n",
       "      <th>avg advRh2</th>\n",
       "      <th>min tdd500</th>\n",
       "      <th>max tdd500</th>\n",
       "      <th>avg tdd500</th>\n",
       "    </tr>\n",
       "  </thead>\n",
       "  <tbody>\n",
       "    <tr>\n",
       "      <th>248</th>\n",
       "      <td>31088</td>\n",
       "      <td>2013-05-06 21:00:00</td>\n",
       "      <td>45</td>\n",
       "      <td>-42.5259</td>\n",
       "      <td>-22.0077</td>\n",
       "      <td>-22.6167</td>\n",
       "      <td>61.1217</td>\n",
       "      <td>70.3236</td>\n",
       "      <td>48.1541</td>\n",
       "      <td>2.21027</td>\n",
       "      <td>...</td>\n",
       "      <td>-750000.0</td>\n",
       "      <td>-12.6339</td>\n",
       "      <td>-9.82527</td>\n",
       "      <td>-8.72661</td>\n",
       "      <td>0.0000537534</td>\n",
       "      <td>0.0001026680</td>\n",
       "      <td>0.0000547066</td>\n",
       "      <td>1.55363</td>\n",
       "      <td>21.65030</td>\n",
       "      <td>7.12960</td>\n",
       "    </tr>\n",
       "    <tr>\n",
       "      <th>754</th>\n",
       "      <td>31088</td>\n",
       "      <td>2014-04-21 21:00:00</td>\n",
       "      <td>21</td>\n",
       "      <td>-37.6523</td>\n",
       "      <td>-37.2494</td>\n",
       "      <td>-18.7254</td>\n",
       "      <td>93.3366</td>\n",
       "      <td>94.1943</td>\n",
       "      <td>46.8827</td>\n",
       "      <td>6.77290</td>\n",
       "      <td>...</td>\n",
       "      <td>-500000.0</td>\n",
       "      <td>-11.7127</td>\n",
       "      <td>-10.95850</td>\n",
       "      <td>-5.66780</td>\n",
       "      <td>-0.0000847260</td>\n",
       "      <td>-0.0000343095</td>\n",
       "      <td>-0.0000297589</td>\n",
       "      <td>3.35209</td>\n",
       "      <td>4.58880</td>\n",
       "      <td>1.98522</td>\n",
       "    </tr>\n",
       "    <tr>\n",
       "      <th>2103</th>\n",
       "      <td>31088</td>\n",
       "      <td>2016-03-20 09:00:00</td>\n",
       "      <td>57</td>\n",
       "      <td>-47.6100</td>\n",
       "      <td>-38.1831</td>\n",
       "      <td>-125.6980</td>\n",
       "      <td>56.4240</td>\n",
       "      <td>89.8289</td>\n",
       "      <td>236.1740</td>\n",
       "      <td>-8.27699</td>\n",
       "      <td>...</td>\n",
       "      <td>-3000000.0</td>\n",
       "      <td>-17.8452</td>\n",
       "      <td>-14.70160</td>\n",
       "      <td>-49.51960</td>\n",
       "      <td>-0.0006438040</td>\n",
       "      <td>0.0012403700</td>\n",
       "      <td>0.0001474790</td>\n",
       "      <td>4.71574</td>\n",
       "      <td>10.46090</td>\n",
       "      <td>19.96940</td>\n",
       "    </tr>\n",
       "    <tr>\n",
       "      <th>2104</th>\n",
       "      <td>31088</td>\n",
       "      <td>2016-03-20 21:00:00</td>\n",
       "      <td>69</td>\n",
       "      <td>-37.3191</td>\n",
       "      <td>-34.3764</td>\n",
       "      <td>-107.3170</td>\n",
       "      <td>54.9899</td>\n",
       "      <td>94.4190</td>\n",
       "      <td>238.2710</td>\n",
       "      <td>-11.85860</td>\n",
       "      <td>...</td>\n",
       "      <td>-3000000.0</td>\n",
       "      <td>-18.7977</td>\n",
       "      <td>-10.42180</td>\n",
       "      <td>-40.35540</td>\n",
       "      <td>-0.0024671300</td>\n",
       "      <td>-0.0000935562</td>\n",
       "      <td>-0.0028885000</td>\n",
       "      <td>3.16230</td>\n",
       "      <td>4.58240</td>\n",
       "      <td>11.33920</td>\n",
       "    </tr>\n",
       "    <tr>\n",
       "      <th>2105</th>\n",
       "      <td>31088</td>\n",
       "      <td>2016-03-21 09:00:00</td>\n",
       "      <td>69</td>\n",
       "      <td>-41.9444</td>\n",
       "      <td>-34.9455</td>\n",
       "      <td>-115.6570</td>\n",
       "      <td>90.2911</td>\n",
       "      <td>98.1722</td>\n",
       "      <td>285.7670</td>\n",
       "      <td>-10.56500</td>\n",
       "      <td>...</td>\n",
       "      <td>-3000000.0</td>\n",
       "      <td>-12.0141</td>\n",
       "      <td>-8.70700</td>\n",
       "      <td>-28.27000</td>\n",
       "      <td>-0.0032321600</td>\n",
       "      <td>-0.0002751000</td>\n",
       "      <td>-0.0039028000</td>\n",
       "      <td>3.25737</td>\n",
       "      <td>9.56662</td>\n",
       "      <td>18.93740</td>\n",
       "    </tr>\n",
       "  </tbody>\n",
       "</table>\n",
       "<p>5 rows × 165 columns</p>\n",
       "</div>"
      ],
      "text/plain": [
       "      point_id          actual_date  offset_h  min td500  max td500  \\\n",
       "248      31088  2013-05-06 21:00:00        45   -42.5259   -22.0077   \n",
       "754      31088  2014-04-21 21:00:00        21   -37.6523   -37.2494   \n",
       "2103     31088  2016-03-20 09:00:00        57   -47.6100   -38.1831   \n",
       "2104     31088  2016-03-20 21:00:00        69   -37.3191   -34.3764   \n",
       "2105     31088  2016-03-21 09:00:00        69   -41.9444   -34.9455   \n",
       "\n",
       "      avg td500  min rh925  max rh925  avg rh925   min v10     ...      \\\n",
       "248    -22.6167    61.1217    70.3236    48.1541   2.21027     ...       \n",
       "754    -18.7254    93.3366    94.1943    46.8827   6.77290     ...       \n",
       "2103  -125.6980    56.4240    89.8289   236.1740  -8.27699     ...       \n",
       "2104  -107.3170    54.9899    94.4190   238.2710 -11.85860     ...       \n",
       "2105  -115.6570    90.2911    98.1722   285.7670 -10.56500     ...       \n",
       "\n",
       "      avg slptend  min td850  max td850  avg td850    min advRh2  \\\n",
       "248     -750000.0   -12.6339   -9.82527   -8.72661  0.0000537534   \n",
       "754     -500000.0   -11.7127  -10.95850   -5.66780 -0.0000847260   \n",
       "2103   -3000000.0   -17.8452  -14.70160  -49.51960 -0.0006438040   \n",
       "2104   -3000000.0   -18.7977  -10.42180  -40.35540 -0.0024671300   \n",
       "2105   -3000000.0   -12.0141   -8.70700  -28.27000 -0.0032321600   \n",
       "\n",
       "        max advRh2    avg advRh2  min tdd500  max tdd500  avg tdd500  \n",
       "248   0.0001026680  0.0000547066     1.55363    21.65030     7.12960  \n",
       "754  -0.0000343095 -0.0000297589     3.35209     4.58880     1.98522  \n",
       "2103  0.0012403700  0.0001474790     4.71574    10.46090    19.96940  \n",
       "2104 -0.0000935562 -0.0028885000     3.16230     4.58240    11.33920  \n",
       "2105 -0.0002751000 -0.0039028000     3.25737     9.56662    18.93740  \n",
       "\n",
       "[5 rows x 165 columns]"
      ]
     },
     "execution_count": 40,
     "metadata": {},
     "output_type": "execute_result"
    }
   ],
   "source": [
    "df[df['avg slptend'].apply(lambda x : x != -999999.0)].head()"
   ]
  },
  {
   "cell_type": "code",
   "execution_count": 44,
   "metadata": {},
   "outputs": [],
   "source": [
    "# replace \n",
    "# df['value'] = df['value'].map({old_value: new_value})\n",
    "# df = df.replace({field : map})\n",
    "\n",
    "#group by\n",
    "# df..groupby(by=grouping_columns)[columns_to_show].function()\n",
    "\n",
    "#df.groupby(['actual_date'])['min td500', 'min rh925'].describe(percentiles=[])\n",
    "# df.groupby(['actual_date'])['min td500', 'min rh925'].agg([np.mean, np.std, mp.min, np.max])"
   ]
  },
  {
   "cell_type": "code",
   "execution_count": 48,
   "metadata": {},
   "outputs": [
    {
     "data": {
      "text/html": [
       "<div>\n",
       "<style scoped>\n",
       "    .dataframe tbody tr th:only-of-type {\n",
       "        vertical-align: middle;\n",
       "    }\n",
       "\n",
       "    .dataframe tbody tr th {\n",
       "        vertical-align: top;\n",
       "    }\n",
       "\n",
       "    .dataframe thead th {\n",
       "        text-align: right;\n",
       "    }\n",
       "</style>\n",
       "<table border=\"1\" class=\"dataframe\">\n",
       "  <thead>\n",
       "    <tr style=\"text-align: right;\">\n",
       "      <th></th>\n",
       "      <th>min td500</th>\n",
       "      <th>min td850</th>\n",
       "    </tr>\n",
       "    <tr>\n",
       "      <th>actual_date</th>\n",
       "      <th></th>\n",
       "      <th></th>\n",
       "    </tr>\n",
       "  </thead>\n",
       "  <tbody>\n",
       "    <tr>\n",
       "      <th>2013-01-01 09:00:00</th>\n",
       "      <td>-47.2578</td>\n",
       "      <td>-25.5492</td>\n",
       "    </tr>\n",
       "    <tr>\n",
       "      <th>2013-01-01 21:00:00</th>\n",
       "      <td>-40.3764</td>\n",
       "      <td>-24.0012</td>\n",
       "    </tr>\n",
       "    <tr>\n",
       "      <th>2013-01-02 09:00:00</th>\n",
       "      <td>-44.7696</td>\n",
       "      <td>-22.5310</td>\n",
       "    </tr>\n",
       "    <tr>\n",
       "      <th>2013-01-02 21:00:00</th>\n",
       "      <td>-43.9037</td>\n",
       "      <td>-24.9237</td>\n",
       "    </tr>\n",
       "    <tr>\n",
       "      <th>2013-01-03 09:00:00</th>\n",
       "      <td>-43.6458</td>\n",
       "      <td>-25.2467</td>\n",
       "    </tr>\n",
       "    <tr>\n",
       "      <th>2013-01-03 21:00:00</th>\n",
       "      <td>-41.0726</td>\n",
       "      <td>-24.3238</td>\n",
       "    </tr>\n",
       "    <tr>\n",
       "      <th>2013-01-04 09:00:00</th>\n",
       "      <td>-41.1444</td>\n",
       "      <td>-24.2562</td>\n",
       "    </tr>\n",
       "    <tr>\n",
       "      <th>2013-01-04 21:00:00</th>\n",
       "      <td>-41.6251</td>\n",
       "      <td>-23.3547</td>\n",
       "    </tr>\n",
       "    <tr>\n",
       "      <th>2013-01-05 09:00:00</th>\n",
       "      <td>-43.2307</td>\n",
       "      <td>-22.3182</td>\n",
       "    </tr>\n",
       "    <tr>\n",
       "      <th>2013-01-05 21:00:00</th>\n",
       "      <td>-46.1295</td>\n",
       "      <td>-23.8348</td>\n",
       "    </tr>\n",
       "  </tbody>\n",
       "</table>\n",
       "</div>"
      ],
      "text/plain": [
       "                     min td500  min td850\n",
       "actual_date                              \n",
       "2013-01-01 09:00:00   -47.2578   -25.5492\n",
       "2013-01-01 21:00:00   -40.3764   -24.0012\n",
       "2013-01-02 09:00:00   -44.7696   -22.5310\n",
       "2013-01-02 21:00:00   -43.9037   -24.9237\n",
       "2013-01-03 09:00:00   -43.6458   -25.2467\n",
       "2013-01-03 21:00:00   -41.0726   -24.3238\n",
       "2013-01-04 09:00:00   -41.1444   -24.2562\n",
       "2013-01-04 21:00:00   -41.6251   -23.3547\n",
       "2013-01-05 09:00:00   -43.2307   -22.3182\n",
       "2013-01-05 21:00:00   -46.1295   -23.8348"
      ]
     },
     "execution_count": 48,
     "metadata": {},
     "output_type": "execute_result"
    }
   ],
   "source": [
    "# таблица сопряженности\n",
    "# pd.crosstab(df['min td500'], df['min td850'])\n",
    "# свобные таблицы \n",
    "df.pivot_table(['min td500', 'min td850'], ['actual_date'], aggfunc='mean').head(10)"
   ]
  },
  {
   "cell_type": "code",
   "execution_count": null,
   "metadata": {},
   "outputs": [],
   "source": [
    "# total = df[] + df[]\n",
    "# df.inset(loc=df.columns, columns='ddd', value=total) columns\n",
    "# df['ddd'] = total columns\n",
    "# df = df.drop(['Total charge'], axis=1) columns\n",
    "# df.drop([1, 2]).head() row"
   ]
  }
 ],
 "metadata": {
  "kernelspec": {
   "display_name": "Python 3",
   "language": "python",
   "name": "python3"
  },
  "language_info": {
   "codemirror_mode": {
    "name": "ipython",
    "version": 3
   },
   "file_extension": ".py",
   "mimetype": "text/x-python",
   "name": "python",
   "nbconvert_exporter": "python",
   "pygments_lexer": "ipython3",
   "version": "3.5.0"
  }
 },
 "nbformat": 4,
 "nbformat_minor": 2
}
